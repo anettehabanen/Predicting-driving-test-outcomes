{
  "nbformat": 4,
  "nbformat_minor": 0,
  "metadata": {
    "colab": {
      "provenance": []
    },
    "kernelspec": {
      "name": "python3",
      "display_name": "Python 3"
    },
    "language_info": {
      "name": "python"
    }
  },
  "cells": [
    {
      "cell_type": "markdown",
      "source": [
        "# Data\n"
      ],
      "metadata": {
        "id": "e7J_9zq8e6Uj"
      }
    },
    {
      "cell_type": "markdown",
      "source": [
        "## Importing data"
      ],
      "metadata": {
        "id": "Hrky-iIffEtE"
      }
    },
    {
      "cell_type": "code",
      "source": [
        "import numpy as np\n",
        "import pandas as pd\n",
        "import gdown\n",
        "import random\n",
        "from collections import Counter\n",
        "from sklearn.model_selection import train_test_split\n",
        "from sklearn.metrics import accuracy_score"
      ],
      "metadata": {
        "id": "XkPwGRhNpB0J"
      },
      "execution_count": null,
      "outputs": []
    },
    {
      "cell_type": "code",
      "execution_count": null,
      "metadata": {
        "id": "EZ0WJ5f1ezGj",
        "colab": {
          "base_uri": "https://localhost:8080/"
        },
        "outputId": "02908d23-f86a-4832-c114-2bd8068e7e0e"
      },
      "outputs": [
        {
          "output_type": "stream",
          "name": "stderr",
          "text": [
            "Downloading...\n",
            "From: https://drive.google.com/uc?id=13rOuHFt0Io6XBywgMksuv3kijHpr2GHn\n",
            "To: /content/se_2021.csv\n",
            "100%|██████████| 4.68M/4.68M [00:00<00:00, 31.9MB/s]\n",
            "Downloading...\n",
            "From: https://drive.google.com/uc?id=1p9URjb13EaL1K4AXJAZsH-BdCqdbqpk1\n",
            "To: /content/se_2022.csv\n",
            "100%|██████████| 5.16M/5.16M [00:00<00:00, 27.0MB/s]\n",
            "Downloading...\n",
            "From: https://drive.google.com/uc?id=1ApSHKUmiIDVk5XkbRRh40872XdES_xUU\n",
            "To: /content/se_2023.csv\n",
            "100%|██████████| 4.67M/4.67M [00:00<00:00, 29.8MB/s]\n"
          ]
        }
      ],
      "source": [
        "# Data from Eesti avaandmed (Estonian open data)\n",
        "url_2021 = \"https://drive.google.com/file/d/13rOuHFt0Io6XBywgMksuv3kijHpr2GHn/view?usp=sharing\"\n",
        "se_2021 = \"se_2021.csv\"\n",
        "gdown.download(url_2021, se_2021, fuzzy=True)\n",
        "se_2021 = pd.read_csv(\"se_2021.csv\", encoding='utf-8', index_col=False)\n",
        "\n",
        "url_2022 = \"https://drive.google.com/file/d/1p9URjb13EaL1K4AXJAZsH-BdCqdbqpk1/view?usp=sharing\"\n",
        "se_2022 = \"se_2022.csv\"\n",
        "gdown.download(url_2022, se_2022, fuzzy=True)\n",
        "se_2022 = pd.read_csv(\"se_2022.csv\", encoding='utf-8', index_col=False)\n",
        "\n",
        "url_2023 = \"https://drive.google.com/file/d/1ApSHKUmiIDVk5XkbRRh40872XdES_xUU/view?usp=sharing\"\n",
        "se_2023 = \"se_2023.csv\"\n",
        "gdown.download(url_2023, se_2023, fuzzy=True)\n",
        "se_2023 = pd.read_csv(\"se_2023.csv\", encoding='utf-8', index_col=False)\n",
        "\n",
        "data = pd.concat([se_2021, se_2022, se_2023], axis=0)\n",
        "data.reset_index(drop=True, inplace=True)"
      ]
    },
    {
      "cell_type": "markdown",
      "source": [
        "## Info about data"
      ],
      "metadata": {
        "id": "UoYTagr2MkfR"
      }
    },
    {
      "cell_type": "code",
      "source": [
        "pd.set_option('display.max_columns', None)\n",
        "data"
      ],
      "metadata": {
        "id": "CxmpHUTbuGIa",
        "colab": {
          "base_uri": "https://localhost:8080/",
          "height": 547
        },
        "outputId": "862be097-d563-4149-e996-99aab53fa28c"
      },
      "execution_count": null,
      "outputs": [
        {
          "output_type": "execute_result",
          "data": {
            "text/plain": [
              "        EKSAMI_SOORITAJA  KUUPAEV     BYROO KATEGOORIA ERITINGIMUSED  \\\n",
              "0       fd4a476c2fff5845  2021-01  Haapsalu          B           101   \n",
              "1       8fe3816987e62971  2021-01    Jõgeva          B           101   \n",
              "2       1131ad82d5710721  2021-01     Põlva          B           101   \n",
              "3       819bfde54073d8e7  2021-01      Võru          B           101   \n",
              "4       06493201c082d7f2  2021-01  Haapsalu          B           101   \n",
              "...                  ...      ...       ...        ...           ...   \n",
              "133539  fe11a7816441f35d  2023-11     Tartu         BE           NaN   \n",
              "133540  250932f4c822d354  2023-05   Tallinn          B           NaN   \n",
              "133541  37f58c9424cb4216  2023-02  Viljandi          T           NaN   \n",
              "133542  b7d1c1944ac3a8b3  2023-10     Narva         CE           NaN   \n",
              "133543  32426dfae15e014f  2023-01      Võru          B           NaN   \n",
              "\n",
              "                               VIIMANE_AUTOKOOL SOIDUOPETAJA_KAASAS  \\\n",
              "0                             osaühing KLIMBERG                   E   \n",
              "1                                   OÜ AUTOSÕIT                   E   \n",
              "2                                H&M MERTENS OÜ                   E   \n",
              "3                              Tugev Partner OÜ                   E   \n",
              "4                               OÜ Raak Company                   E   \n",
              "...                                         ...                 ...   \n",
              "133539                              OÜ AUTOSÕIT                   E   \n",
              "133540                                      NaN                   E   \n",
              "133541  Olustvere Teenindus- ja Maamajanduskool                   J   \n",
              "133542                  OSAÜHING ERMAN AUTOKOOL                   E   \n",
              "133543                           OÜ Plekk-Liisu                   E   \n",
              "\n",
              "           EKSAMINEERIJA           SEISUND  KESTUS KATK_POHJUS  \\\n",
              "0       31451a368e962058        SOORITATUD    50.0         NaN   \n",
              "1       ae264be409f2ca9f  MITTE_SOORITATUD    24.0         NaN   \n",
              "2       40bcf2cea820fca6  MITTE_SOORITATUD    24.0         NaN   \n",
              "3       bf2b7218d36e2a3d  MITTE_SOORITATUD    48.0         NaN   \n",
              "4       31451a368e962058        SOORITATUD    51.0         NaN   \n",
              "...                  ...               ...     ...         ...   \n",
              "133539  5f2e29794998d365  MITTE_SOORITATUD    13.0         NaN   \n",
              "133540  400e86ed874ccd07        SOORITATUD    40.0         NaN   \n",
              "133541  d321254aa86edd96        SOORITATUD    52.0         NaN   \n",
              "133542  c74b0de43bcd0b0f  MITTE_SOORITATUD    32.0         NaN   \n",
              "133543  bf2b7218d36e2a3d        SOORITATUD    40.0         NaN   \n",
              "\n",
              "                             MITTEARVESTATUD                     VEAD  \n",
              "0                                        NaN                      NaN  \n",
              "1                                   EESOIGUS                      NaN  \n",
              "2                                   EESOIGUS                      NaN  \n",
              "3       JALGIMINE|LIIKLUSOHUTUS|TEELPUSIMINE                      NaN  \n",
              "4                                        NaN                      NaN  \n",
              "...                                      ...                      ...  \n",
              "133539                AUTORONG|LIIKLUSOHUTUS  AUTORONGI_MT_KOOSTAMINE  \n",
              "133540                                   NaN                      NaN  \n",
              "133541                                   NaN                      NaN  \n",
              "133542                           SOIDUVOTTED                      NaN  \n",
              "133543                                   NaN                      NaN  \n",
              "\n",
              "[133544 rows x 13 columns]"
            ],
            "text/html": [
              "\n",
              "  <div id=\"df-5cd7ca48-57fb-48da-95aa-0fd2aa354766\" class=\"colab-df-container\">\n",
              "    <div>\n",
              "<style scoped>\n",
              "    .dataframe tbody tr th:only-of-type {\n",
              "        vertical-align: middle;\n",
              "    }\n",
              "\n",
              "    .dataframe tbody tr th {\n",
              "        vertical-align: top;\n",
              "    }\n",
              "\n",
              "    .dataframe thead th {\n",
              "        text-align: right;\n",
              "    }\n",
              "</style>\n",
              "<table border=\"1\" class=\"dataframe\">\n",
              "  <thead>\n",
              "    <tr style=\"text-align: right;\">\n",
              "      <th></th>\n",
              "      <th>EKSAMI_SOORITAJA</th>\n",
              "      <th>KUUPAEV</th>\n",
              "      <th>BYROO</th>\n",
              "      <th>KATEGOORIA</th>\n",
              "      <th>ERITINGIMUSED</th>\n",
              "      <th>VIIMANE_AUTOKOOL</th>\n",
              "      <th>SOIDUOPETAJA_KAASAS</th>\n",
              "      <th>EKSAMINEERIJA</th>\n",
              "      <th>SEISUND</th>\n",
              "      <th>KESTUS</th>\n",
              "      <th>KATK_POHJUS</th>\n",
              "      <th>MITTEARVESTATUD</th>\n",
              "      <th>VEAD</th>\n",
              "    </tr>\n",
              "  </thead>\n",
              "  <tbody>\n",
              "    <tr>\n",
              "      <th>0</th>\n",
              "      <td>fd4a476c2fff5845</td>\n",
              "      <td>2021-01</td>\n",
              "      <td>Haapsalu</td>\n",
              "      <td>B</td>\n",
              "      <td>101</td>\n",
              "      <td>osaühing KLIMBERG</td>\n",
              "      <td>E</td>\n",
              "      <td>31451a368e962058</td>\n",
              "      <td>SOORITATUD</td>\n",
              "      <td>50.0</td>\n",
              "      <td>NaN</td>\n",
              "      <td>NaN</td>\n",
              "      <td>NaN</td>\n",
              "    </tr>\n",
              "    <tr>\n",
              "      <th>1</th>\n",
              "      <td>8fe3816987e62971</td>\n",
              "      <td>2021-01</td>\n",
              "      <td>Jõgeva</td>\n",
              "      <td>B</td>\n",
              "      <td>101</td>\n",
              "      <td>OÜ AUTOSÕIT</td>\n",
              "      <td>E</td>\n",
              "      <td>ae264be409f2ca9f</td>\n",
              "      <td>MITTE_SOORITATUD</td>\n",
              "      <td>24.0</td>\n",
              "      <td>NaN</td>\n",
              "      <td>EESOIGUS</td>\n",
              "      <td>NaN</td>\n",
              "    </tr>\n",
              "    <tr>\n",
              "      <th>2</th>\n",
              "      <td>1131ad82d5710721</td>\n",
              "      <td>2021-01</td>\n",
              "      <td>Põlva</td>\n",
              "      <td>B</td>\n",
              "      <td>101</td>\n",
              "      <td>H&amp;M MERTENS OÜ</td>\n",
              "      <td>E</td>\n",
              "      <td>40bcf2cea820fca6</td>\n",
              "      <td>MITTE_SOORITATUD</td>\n",
              "      <td>24.0</td>\n",
              "      <td>NaN</td>\n",
              "      <td>EESOIGUS</td>\n",
              "      <td>NaN</td>\n",
              "    </tr>\n",
              "    <tr>\n",
              "      <th>3</th>\n",
              "      <td>819bfde54073d8e7</td>\n",
              "      <td>2021-01</td>\n",
              "      <td>Võru</td>\n",
              "      <td>B</td>\n",
              "      <td>101</td>\n",
              "      <td>Tugev Partner OÜ</td>\n",
              "      <td>E</td>\n",
              "      <td>bf2b7218d36e2a3d</td>\n",
              "      <td>MITTE_SOORITATUD</td>\n",
              "      <td>48.0</td>\n",
              "      <td>NaN</td>\n",
              "      <td>JALGIMINE|LIIKLUSOHUTUS|TEELPUSIMINE</td>\n",
              "      <td>NaN</td>\n",
              "    </tr>\n",
              "    <tr>\n",
              "      <th>4</th>\n",
              "      <td>06493201c082d7f2</td>\n",
              "      <td>2021-01</td>\n",
              "      <td>Haapsalu</td>\n",
              "      <td>B</td>\n",
              "      <td>101</td>\n",
              "      <td>OÜ Raak Company</td>\n",
              "      <td>E</td>\n",
              "      <td>31451a368e962058</td>\n",
              "      <td>SOORITATUD</td>\n",
              "      <td>51.0</td>\n",
              "      <td>NaN</td>\n",
              "      <td>NaN</td>\n",
              "      <td>NaN</td>\n",
              "    </tr>\n",
              "    <tr>\n",
              "      <th>...</th>\n",
              "      <td>...</td>\n",
              "      <td>...</td>\n",
              "      <td>...</td>\n",
              "      <td>...</td>\n",
              "      <td>...</td>\n",
              "      <td>...</td>\n",
              "      <td>...</td>\n",
              "      <td>...</td>\n",
              "      <td>...</td>\n",
              "      <td>...</td>\n",
              "      <td>...</td>\n",
              "      <td>...</td>\n",
              "      <td>...</td>\n",
              "    </tr>\n",
              "    <tr>\n",
              "      <th>133539</th>\n",
              "      <td>fe11a7816441f35d</td>\n",
              "      <td>2023-11</td>\n",
              "      <td>Tartu</td>\n",
              "      <td>BE</td>\n",
              "      <td>NaN</td>\n",
              "      <td>OÜ AUTOSÕIT</td>\n",
              "      <td>E</td>\n",
              "      <td>5f2e29794998d365</td>\n",
              "      <td>MITTE_SOORITATUD</td>\n",
              "      <td>13.0</td>\n",
              "      <td>NaN</td>\n",
              "      <td>AUTORONG|LIIKLUSOHUTUS</td>\n",
              "      <td>AUTORONGI_MT_KOOSTAMINE</td>\n",
              "    </tr>\n",
              "    <tr>\n",
              "      <th>133540</th>\n",
              "      <td>250932f4c822d354</td>\n",
              "      <td>2023-05</td>\n",
              "      <td>Tallinn</td>\n",
              "      <td>B</td>\n",
              "      <td>NaN</td>\n",
              "      <td>NaN</td>\n",
              "      <td>E</td>\n",
              "      <td>400e86ed874ccd07</td>\n",
              "      <td>SOORITATUD</td>\n",
              "      <td>40.0</td>\n",
              "      <td>NaN</td>\n",
              "      <td>NaN</td>\n",
              "      <td>NaN</td>\n",
              "    </tr>\n",
              "    <tr>\n",
              "      <th>133541</th>\n",
              "      <td>37f58c9424cb4216</td>\n",
              "      <td>2023-02</td>\n",
              "      <td>Viljandi</td>\n",
              "      <td>T</td>\n",
              "      <td>NaN</td>\n",
              "      <td>Olustvere Teenindus- ja Maamajanduskool</td>\n",
              "      <td>J</td>\n",
              "      <td>d321254aa86edd96</td>\n",
              "      <td>SOORITATUD</td>\n",
              "      <td>52.0</td>\n",
              "      <td>NaN</td>\n",
              "      <td>NaN</td>\n",
              "      <td>NaN</td>\n",
              "    </tr>\n",
              "    <tr>\n",
              "      <th>133542</th>\n",
              "      <td>b7d1c1944ac3a8b3</td>\n",
              "      <td>2023-10</td>\n",
              "      <td>Narva</td>\n",
              "      <td>CE</td>\n",
              "      <td>NaN</td>\n",
              "      <td>OSAÜHING ERMAN AUTOKOOL</td>\n",
              "      <td>E</td>\n",
              "      <td>c74b0de43bcd0b0f</td>\n",
              "      <td>MITTE_SOORITATUD</td>\n",
              "      <td>32.0</td>\n",
              "      <td>NaN</td>\n",
              "      <td>SOIDUVOTTED</td>\n",
              "      <td>NaN</td>\n",
              "    </tr>\n",
              "    <tr>\n",
              "      <th>133543</th>\n",
              "      <td>32426dfae15e014f</td>\n",
              "      <td>2023-01</td>\n",
              "      <td>Võru</td>\n",
              "      <td>B</td>\n",
              "      <td>NaN</td>\n",
              "      <td>OÜ Plekk-Liisu</td>\n",
              "      <td>E</td>\n",
              "      <td>bf2b7218d36e2a3d</td>\n",
              "      <td>SOORITATUD</td>\n",
              "      <td>40.0</td>\n",
              "      <td>NaN</td>\n",
              "      <td>NaN</td>\n",
              "      <td>NaN</td>\n",
              "    </tr>\n",
              "  </tbody>\n",
              "</table>\n",
              "<p>133544 rows × 13 columns</p>\n",
              "</div>\n",
              "    <div class=\"colab-df-buttons\">\n",
              "\n",
              "  <div class=\"colab-df-container\">\n",
              "    <button class=\"colab-df-convert\" onclick=\"convertToInteractive('df-5cd7ca48-57fb-48da-95aa-0fd2aa354766')\"\n",
              "            title=\"Convert this dataframe to an interactive table.\"\n",
              "            style=\"display:none;\">\n",
              "\n",
              "  <svg xmlns=\"http://www.w3.org/2000/svg\" height=\"24px\" viewBox=\"0 -960 960 960\">\n",
              "    <path d=\"M120-120v-720h720v720H120Zm60-500h600v-160H180v160Zm220 220h160v-160H400v160Zm0 220h160v-160H400v160ZM180-400h160v-160H180v160Zm440 0h160v-160H620v160ZM180-180h160v-160H180v160Zm440 0h160v-160H620v160Z\"/>\n",
              "  </svg>\n",
              "    </button>\n",
              "\n",
              "  <style>\n",
              "    .colab-df-container {\n",
              "      display:flex;\n",
              "      gap: 12px;\n",
              "    }\n",
              "\n",
              "    .colab-df-convert {\n",
              "      background-color: #E8F0FE;\n",
              "      border: none;\n",
              "      border-radius: 50%;\n",
              "      cursor: pointer;\n",
              "      display: none;\n",
              "      fill: #1967D2;\n",
              "      height: 32px;\n",
              "      padding: 0 0 0 0;\n",
              "      width: 32px;\n",
              "    }\n",
              "\n",
              "    .colab-df-convert:hover {\n",
              "      background-color: #E2EBFA;\n",
              "      box-shadow: 0px 1px 2px rgba(60, 64, 67, 0.3), 0px 1px 3px 1px rgba(60, 64, 67, 0.15);\n",
              "      fill: #174EA6;\n",
              "    }\n",
              "\n",
              "    .colab-df-buttons div {\n",
              "      margin-bottom: 4px;\n",
              "    }\n",
              "\n",
              "    [theme=dark] .colab-df-convert {\n",
              "      background-color: #3B4455;\n",
              "      fill: #D2E3FC;\n",
              "    }\n",
              "\n",
              "    [theme=dark] .colab-df-convert:hover {\n",
              "      background-color: #434B5C;\n",
              "      box-shadow: 0px 1px 3px 1px rgba(0, 0, 0, 0.15);\n",
              "      filter: drop-shadow(0px 1px 2px rgba(0, 0, 0, 0.3));\n",
              "      fill: #FFFFFF;\n",
              "    }\n",
              "  </style>\n",
              "\n",
              "    <script>\n",
              "      const buttonEl =\n",
              "        document.querySelector('#df-5cd7ca48-57fb-48da-95aa-0fd2aa354766 button.colab-df-convert');\n",
              "      buttonEl.style.display =\n",
              "        google.colab.kernel.accessAllowed ? 'block' : 'none';\n",
              "\n",
              "      async function convertToInteractive(key) {\n",
              "        const element = document.querySelector('#df-5cd7ca48-57fb-48da-95aa-0fd2aa354766');\n",
              "        const dataTable =\n",
              "          await google.colab.kernel.invokeFunction('convertToInteractive',\n",
              "                                                    [key], {});\n",
              "        if (!dataTable) return;\n",
              "\n",
              "        const docLinkHtml = 'Like what you see? Visit the ' +\n",
              "          '<a target=\"_blank\" href=https://colab.research.google.com/notebooks/data_table.ipynb>data table notebook</a>'\n",
              "          + ' to learn more about interactive tables.';\n",
              "        element.innerHTML = '';\n",
              "        dataTable['output_type'] = 'display_data';\n",
              "        await google.colab.output.renderOutput(dataTable, element);\n",
              "        const docLink = document.createElement('div');\n",
              "        docLink.innerHTML = docLinkHtml;\n",
              "        element.appendChild(docLink);\n",
              "      }\n",
              "    </script>\n",
              "  </div>\n",
              "\n",
              "\n",
              "<div id=\"df-045603cc-0eec-42c0-8b37-09b513b902f2\">\n",
              "  <button class=\"colab-df-quickchart\" onclick=\"quickchart('df-045603cc-0eec-42c0-8b37-09b513b902f2')\"\n",
              "            title=\"Suggest charts\"\n",
              "            style=\"display:none;\">\n",
              "\n",
              "<svg xmlns=\"http://www.w3.org/2000/svg\" height=\"24px\"viewBox=\"0 0 24 24\"\n",
              "     width=\"24px\">\n",
              "    <g>\n",
              "        <path d=\"M19 3H5c-1.1 0-2 .9-2 2v14c0 1.1.9 2 2 2h14c1.1 0 2-.9 2-2V5c0-1.1-.9-2-2-2zM9 17H7v-7h2v7zm4 0h-2V7h2v10zm4 0h-2v-4h2v4z\"/>\n",
              "    </g>\n",
              "</svg>\n",
              "  </button>\n",
              "\n",
              "<style>\n",
              "  .colab-df-quickchart {\n",
              "      --bg-color: #E8F0FE;\n",
              "      --fill-color: #1967D2;\n",
              "      --hover-bg-color: #E2EBFA;\n",
              "      --hover-fill-color: #174EA6;\n",
              "      --disabled-fill-color: #AAA;\n",
              "      --disabled-bg-color: #DDD;\n",
              "  }\n",
              "\n",
              "  [theme=dark] .colab-df-quickchart {\n",
              "      --bg-color: #3B4455;\n",
              "      --fill-color: #D2E3FC;\n",
              "      --hover-bg-color: #434B5C;\n",
              "      --hover-fill-color: #FFFFFF;\n",
              "      --disabled-bg-color: #3B4455;\n",
              "      --disabled-fill-color: #666;\n",
              "  }\n",
              "\n",
              "  .colab-df-quickchart {\n",
              "    background-color: var(--bg-color);\n",
              "    border: none;\n",
              "    border-radius: 50%;\n",
              "    cursor: pointer;\n",
              "    display: none;\n",
              "    fill: var(--fill-color);\n",
              "    height: 32px;\n",
              "    padding: 0;\n",
              "    width: 32px;\n",
              "  }\n",
              "\n",
              "  .colab-df-quickchart:hover {\n",
              "    background-color: var(--hover-bg-color);\n",
              "    box-shadow: 0 1px 2px rgba(60, 64, 67, 0.3), 0 1px 3px 1px rgba(60, 64, 67, 0.15);\n",
              "    fill: var(--button-hover-fill-color);\n",
              "  }\n",
              "\n",
              "  .colab-df-quickchart-complete:disabled,\n",
              "  .colab-df-quickchart-complete:disabled:hover {\n",
              "    background-color: var(--disabled-bg-color);\n",
              "    fill: var(--disabled-fill-color);\n",
              "    box-shadow: none;\n",
              "  }\n",
              "\n",
              "  .colab-df-spinner {\n",
              "    border: 2px solid var(--fill-color);\n",
              "    border-color: transparent;\n",
              "    border-bottom-color: var(--fill-color);\n",
              "    animation:\n",
              "      spin 1s steps(1) infinite;\n",
              "  }\n",
              "\n",
              "  @keyframes spin {\n",
              "    0% {\n",
              "      border-color: transparent;\n",
              "      border-bottom-color: var(--fill-color);\n",
              "      border-left-color: var(--fill-color);\n",
              "    }\n",
              "    20% {\n",
              "      border-color: transparent;\n",
              "      border-left-color: var(--fill-color);\n",
              "      border-top-color: var(--fill-color);\n",
              "    }\n",
              "    30% {\n",
              "      border-color: transparent;\n",
              "      border-left-color: var(--fill-color);\n",
              "      border-top-color: var(--fill-color);\n",
              "      border-right-color: var(--fill-color);\n",
              "    }\n",
              "    40% {\n",
              "      border-color: transparent;\n",
              "      border-right-color: var(--fill-color);\n",
              "      border-top-color: var(--fill-color);\n",
              "    }\n",
              "    60% {\n",
              "      border-color: transparent;\n",
              "      border-right-color: var(--fill-color);\n",
              "    }\n",
              "    80% {\n",
              "      border-color: transparent;\n",
              "      border-right-color: var(--fill-color);\n",
              "      border-bottom-color: var(--fill-color);\n",
              "    }\n",
              "    90% {\n",
              "      border-color: transparent;\n",
              "      border-bottom-color: var(--fill-color);\n",
              "    }\n",
              "  }\n",
              "</style>\n",
              "\n",
              "  <script>\n",
              "    async function quickchart(key) {\n",
              "      const quickchartButtonEl =\n",
              "        document.querySelector('#' + key + ' button');\n",
              "      quickchartButtonEl.disabled = true;  // To prevent multiple clicks.\n",
              "      quickchartButtonEl.classList.add('colab-df-spinner');\n",
              "      try {\n",
              "        const charts = await google.colab.kernel.invokeFunction(\n",
              "            'suggestCharts', [key], {});\n",
              "      } catch (error) {\n",
              "        console.error('Error during call to suggestCharts:', error);\n",
              "      }\n",
              "      quickchartButtonEl.classList.remove('colab-df-spinner');\n",
              "      quickchartButtonEl.classList.add('colab-df-quickchart-complete');\n",
              "    }\n",
              "    (() => {\n",
              "      let quickchartButtonEl =\n",
              "        document.querySelector('#df-045603cc-0eec-42c0-8b37-09b513b902f2 button');\n",
              "      quickchartButtonEl.style.display =\n",
              "        google.colab.kernel.accessAllowed ? 'block' : 'none';\n",
              "    })();\n",
              "  </script>\n",
              "</div>\n",
              "    </div>\n",
              "  </div>\n"
            ]
          },
          "metadata": {},
          "execution_count": 3
        }
      ]
    },
    {
      "cell_type": "markdown",
      "source": [
        "- EKSAMI_SOORITAJA - examinee -  Examinee (Each examinee has one ID across all files in this dataset)\n",
        "- KUUPAEV - date -  Exam year and month\n",
        "- BYROO - bureau - Bureau that the exam is related to\n",
        "- KATEGOORIA - category  - Driving licence category that will be obtained\n",
        "- ERITINGIMUSED - special_conditions -Additional information about the exam (and driving licence)\n",
        "- VIIMANE_AUTOKOOL - driving_school - Last driving school that the examinee studied in\n",
        "- SOIDUOPETAJA_KAASAS - teacher_present - If the driving teacher was also in the car (J-Yes/E-No)\n",
        "- EKSAMINEERIJA - examiner - Examiner (Each examiner has one ID across all files in this dataset)\n",
        "- SEISUND - result - Result of exam ('SOORITATUD' - pass; 'MITTE_SOORITATUD' - fail)\n",
        "- KESTUS - duration - Exam duration in minutes\n",
        "- KATK_POHJUS - abort_reasons - Reason for aborting exam (if applicable)\n",
        "- MITTEARVESTATUD - failure_reasons - An exam is divided into individual elements; this contains unsuccessful exam elements\n",
        "- VEAD - mistakes - Exam mistakes"
      ],
      "metadata": {
        "id": "om9Q36xWqi-M"
      }
    },
    {
      "cell_type": "code",
      "source": [
        "values = data.KESTUS.value_counts().sort_index()\n",
        "print(*values.keys())\n",
        "\n",
        "print(\"Mean duration of the test for passed tests: \" + str(data[data[\"SEISUND\"] == \"SOORITATUD\"]['KESTUS'].mean()))\n",
        "print(\"Mean duration of the test for failed tests: \" + str(data[data[\"SEISUND\"] == \"MITTE-SOORITATUD\"]['KESTUS'].mean()))"
      ],
      "metadata": {
        "id": "CkAbPu_GKXZR",
        "colab": {
          "base_uri": "https://localhost:8080/"
        },
        "outputId": "f0c1d449-6072-4c18-8744-a5d965d981b5"
      },
      "execution_count": null,
      "outputs": [
        {
          "output_type": "stream",
          "name": "stdout",
          "text": [
            "0.0 1.0 2.0 3.0 4.0 5.0 6.0 7.0 8.0 9.0 10.0 11.0 12.0 13.0 14.0 15.0 16.0 17.0 18.0 19.0 20.0 21.0 22.0 23.0 24.0 25.0 26.0 27.0 28.0 29.0 30.0 31.0 32.0 33.0 34.0 35.0 36.0 37.0 38.0 39.0 40.0 41.0 42.0 43.0 44.0 45.0 46.0 47.0 48.0 49.0 50.0 51.0 52.0 53.0 54.0 55.0 56.0 57.0 58.0 59.0 60.0 61.0 62.0 63.0 64.0 65.0 66.0 67.0 68.0 69.0 70.0 71.0 72.0 73.0 74.0 75.0 76.0 77.0 78.0 79.0 80.0 81.0 82.0 83.0 84.0 85.0 86.0 87.0 88.0 89.0 90.0 91.0 92.0 93.0 94.0 95.0 96.0 97.0 98.0 99.0 100.0 101.0 102.0 103.0 104.0 105.0 106.0 107.0 108.0 109.0 110.0 111.0 112.0 113.0 114.0 115.0 116.0 117.0 118.0 119.0 121.0 122.0 123.0 124.0 125.0 126.0 127.0 128.0 129.0 130.0 131.0 132.0 135.0 136.0 137.0 139.0 140.0 142.0 143.0 144.0 149.0 150.0 151.0 154.0 155.0 156.0 157.0 158.0 162.0 166.0 167.0 168.0 172.0 173.0 174.0 177.0 182.0 185.0 187.0 188.0 190.0 196.0 198.0 208.0 209.0 210.0 211.0 217.0 222.0 223.0 224.0 226.0 227.0 230.0 233.0 234.0 243.0 244.0 246.0 247.0 249.0 253.0 263.0 267.0 273.0 274.0 276.0 281.0 282.0 288.0 297.0 299.0 302.0 306.0 312.0 318.0 322.0 324.0 325.0 329.0 333.0 340.0 349.0 354.0 356.0 371.0 373.0 376.0 380.0 450.0 473.0 947.0 1001.0 1024.0\n",
            "Mean duration of the test for passed tests: 49.781099271666875\n",
            "Mean duration of the test for failed tests: nan\n"
          ]
        }
      ]
    },
    {
      "cell_type": "code",
      "source": [
        "print(\"Number of tests passed: \" + str(data[data[\"SEISUND\"] == \"SOORITATUD\"].shape[0]))\n",
        "print(\"Number of tests failed: \" + str(data[data[\"SEISUND\"] == \"MITTE_SOORITATUD\"].shape[0]))"
      ],
      "metadata": {
        "id": "Klkpoa-6xRG4",
        "colab": {
          "base_uri": "https://localhost:8080/"
        },
        "outputId": "086d1ccb-0579-4083-fd1a-cbfecd181dc2"
      },
      "execution_count": null,
      "outputs": [
        {
          "output_type": "stream",
          "name": "stdout",
          "text": [
            "Number of tests passed: 72358\n",
            "Number of tests failed: 57235\n"
          ]
        }
      ]
    },
    {
      "cell_type": "code",
      "source": [
        "# Failure reasons + counts\n",
        "reasons = []\n",
        "for index, row in data[data[\"SEISUND\"] == \"MITTE_SOORITATUD\"].iterrows():\n",
        "  strings = str(row['MITTEARVESTATUD']).split('|')\n",
        "  for elem in strings:\n",
        "    reasons.append(elem)\n",
        "\n",
        "reasons_list = Counter(reasons)\n",
        "reasons_list.most_common()\n"
      ],
      "metadata": {
        "id": "33Ik_8qW0_DP",
        "colab": {
          "base_uri": "https://localhost:8080/"
        },
        "outputId": "49b7a6ff-fcd0-41df-c502-95079a14fba7"
      },
      "execution_count": null,
      "outputs": [
        {
          "output_type": "execute_result",
          "data": {
            "text/plain": [
              "[('LIIKLUSOHUTUS', 18225),\n",
              " ('FOORID_MARGID', 11022),\n",
              " ('PAIKNEMINE', 6182),\n",
              " ('LIIKLUSREEGLID', 5726),\n",
              " ('SOIDUKIIRUS', 5631),\n",
              " ('EESOIGUS', 5248),\n",
              " ('SOIDUKI_VALITSEMINE', 4584),\n",
              " ('ISESEISVUS', 4087),\n",
              " ('PARKIMINE_MANOOVRIGA', 3440),\n",
              " ('JUHTIMISSEADMETE_KASUT', 3082),\n",
              " ('TAHELEPANELIKKUS', 3004),\n",
              " ('TAGUR_BOKS', 2844),\n",
              " ('SOIDUVOTTED', 2341),\n",
              " ('TAGUR_OTSE', 1792),\n",
              " ('PARKIMINE_ROOPSELT', 1572),\n",
              " ('PIIR_TAGASI', 1198),\n",
              " ('JALGIMINE', 1194),\n",
              " ('KOOSTOO_TEISTEGA', 1152),\n",
              " ('OHUTU_PARKIMINE', 947),\n",
              " ('TEELPUSIMINE', 843),\n",
              " ('RISKID', 791),\n",
              " ('JUHISEADMETE_KASUT', 778),\n",
              " ('AUTORONG', 633),\n",
              " ('ETTENAGELIKKUS', 382),\n",
              " ('PIDUR_PEAT', 304),\n",
              " ('TEGEVUSTE_AJASTUS', 300),\n",
              " ('TEGEVUSED', 289),\n",
              " ('SOIDUSUJUVUS', 271),\n",
              " ('HADAPIDURDAMINE', 249),\n",
              " ('KAHEKSA', 183),\n",
              " ('MASINRONG', 163),\n",
              " ('OKO_SOIT', 156),\n",
              " ('BUSSI_PARKIMINE', 136),\n",
              " ('MASIN_TAGUR_BOKS_VALJA', 130),\n",
              " ('TAKIST_YMBER', 130),\n",
              " ('SLAALOM', 114),\n",
              " ('MASIN_TAGUR_OTSE', 92),\n",
              " ('AEGLUSSOIT', 82),\n",
              " ('nan', 41),\n",
              " ('PARKIMISKOHALE', 19),\n",
              " ('TAGUR_VASAK_PAREM', 14),\n",
              " ('VEOSE_MASS_LIIK', 12),\n",
              " ('SOITJATE_MUGAVUS', 6),\n",
              " ('TAGUR_BOKS_VALJA', 1)]"
            ]
          },
          "metadata": {},
          "execution_count": 6
        }
      ]
    },
    {
      "cell_type": "code",
      "source": [
        "# special contitions\n",
        "conditions = []\n",
        "for index, row in data[~data['ERITINGIMUSED'].isna()].iterrows():\n",
        "  strings = row['ERITINGIMUSED'].split('|')\n",
        "  for elem in strings:\n",
        "    conditions.append(elem)\n",
        "\n",
        "conditions_list = Counter(conditions)\n",
        "conditions_list.most_common()"
      ],
      "metadata": {
        "id": "6MfCQLVIEahH",
        "colab": {
          "base_uri": "https://localhost:8080/"
        },
        "outputId": "e196c52d-fcf6-417b-98af-0cbf3ded7554"
      },
      "execution_count": null,
      "outputs": [
        {
          "output_type": "execute_result",
          "data": {
            "text/plain": [
              "[('101', 91600),\n",
              " ('78', 20875),\n",
              " ('79.01', 1331),\n",
              " ('96', 1109),\n",
              " ('79.02', 362),\n",
              " ('106', 13)]"
            ]
          },
          "metadata": {},
          "execution_count": 7
        }
      ]
    },
    {
      "cell_type": "markdown",
      "source": [
        "* 101 - vahtraleht (novice driver’s badge, first time doing the exam)\n",
        "* 78 - automaat käigukast (automatic gearbox)\n",
        "* 79.01 - kaherattelised sõidukid (vehicle with two heels)\n",
        "* 96 - b-kategooria koos haagised, üle 750kg (category B motor vehicle with a trailer mass exceeding 750 kilograms)\n",
        "* 79.02 - AM kolmerattalised, kerged neljarattalised (three-wheeled motorcycles or light quardicycles)\n",
        "* 106 - D-kategooria bussijuhtimine üksnes kohalikel kuni 50km pikkustel liinidel (category D bus that provides local public transport on routes that are shorter than 50 kilometres)"
      ],
      "metadata": {
        "id": "j-6_nH9Sr134"
      }
    },
    {
      "cell_type": "markdown",
      "source": [
        "# Cleaning the data"
      ],
      "metadata": {
        "id": "OH2JxZCBMoKC"
      }
    },
    {
      "cell_type": "code",
      "source": [
        "# Filling failure reasons for passed tests\n",
        "data['MITTEARVESTATUD'] = data['MITTEARVESTATUD'].fillna('-')\n",
        "\n",
        "# Remove rows that have the duration: 1. more than 100 minutes or less than 35 minutes (for passed tests)\n",
        "indexRows = data[ (data[\"KESTUS\"] < 35) & (data[\"SEISUND\"] == 'SOORITATUD')].index\n",
        "data.drop(indexRows , inplace=True)\n",
        "\n",
        "indexRows = data[ (data[\"KESTUS\"] > 100)].index\n",
        "data.drop(indexRows , inplace=True)\n",
        "\n",
        "# Only leave rows, where the result equals \"SOORITATUD\" or \"MITTE-SOORITATUD\".\n",
        "indexRows = data[ (data[\"SEISUND\"] == 'KATKESTATUD') | (data[\"SEISUND\"] == 'EI_ILMUNUD_KOHALE')].index\n",
        "data.drop(indexRows , inplace=True)\n",
        "\n",
        "# Leave only B-category\n",
        "data = data[data['KATEGOORIA'] == 'B']\n",
        "\n",
        "pd.set_option('display.max_columns', None)\n",
        "data"
      ],
      "metadata": {
        "id": "xS9Tk1Bw3U7Y",
        "colab": {
          "base_uri": "https://localhost:8080/",
          "height": 478
        },
        "outputId": "9a603e03-5b95-452d-924b-7d782e7f79ee"
      },
      "execution_count": null,
      "outputs": [
        {
          "output_type": "execute_result",
          "data": {
            "text/plain": [
              "        EKSAMI_SOORITAJA  KUUPAEV     BYROO KATEGOORIA ERITINGIMUSED  \\\n",
              "0       fd4a476c2fff5845  2021-01  Haapsalu          B           101   \n",
              "1       8fe3816987e62971  2021-01    Jõgeva          B           101   \n",
              "2       1131ad82d5710721  2021-01     Põlva          B           101   \n",
              "3       819bfde54073d8e7  2021-01      Võru          B           101   \n",
              "4       06493201c082d7f2  2021-01  Haapsalu          B           101   \n",
              "...                  ...      ...       ...        ...           ...   \n",
              "133491  1d8857ced7722b21  2023-09   Rakvere          B           NaN   \n",
              "133496  3154660ac35b30f8  2023-09   Tallinn          B           NaN   \n",
              "133526  09152e98c6984f9f  2023-11     Tartu          B           NaN   \n",
              "133540  250932f4c822d354  2023-05   Tallinn          B           NaN   \n",
              "133543  32426dfae15e014f  2023-01      Võru          B           NaN   \n",
              "\n",
              "         VIIMANE_AUTOKOOL SOIDUOPETAJA_KAASAS     EKSAMINEERIJA  \\\n",
              "0       osaühing KLIMBERG                   E  31451a368e962058   \n",
              "1             OÜ AUTOSÕIT                   E  ae264be409f2ca9f   \n",
              "2          H&M MERTENS OÜ                   E  40bcf2cea820fca6   \n",
              "3        Tugev Partner OÜ                   E  bf2b7218d36e2a3d   \n",
              "4         OÜ Raak Company                   E  31451a368e962058   \n",
              "...                   ...                 ...               ...   \n",
              "133491                NaN                   E  4141299ff500eb11   \n",
              "133496                NaN                   E  0f8b5f7ee00be8ae   \n",
              "133526    VPK Koolitus OÜ                   E  602d00a56a9a8757   \n",
              "133540                NaN                   E  400e86ed874ccd07   \n",
              "133543     OÜ Plekk-Liisu                   E  bf2b7218d36e2a3d   \n",
              "\n",
              "                 SEISUND  KESTUS KATK_POHJUS  \\\n",
              "0             SOORITATUD    50.0         NaN   \n",
              "1       MITTE_SOORITATUD    24.0         NaN   \n",
              "2       MITTE_SOORITATUD    24.0         NaN   \n",
              "3       MITTE_SOORITATUD    48.0         NaN   \n",
              "4             SOORITATUD    51.0         NaN   \n",
              "...                  ...     ...         ...   \n",
              "133491        SOORITATUD    44.0         NaN   \n",
              "133496        SOORITATUD    47.0         NaN   \n",
              "133526        SOORITATUD    47.0         NaN   \n",
              "133540        SOORITATUD    40.0         NaN   \n",
              "133543        SOORITATUD    40.0         NaN   \n",
              "\n",
              "                             MITTEARVESTATUD VEAD  \n",
              "0                                          -  NaN  \n",
              "1                                   EESOIGUS  NaN  \n",
              "2                                   EESOIGUS  NaN  \n",
              "3       JALGIMINE|LIIKLUSOHUTUS|TEELPUSIMINE  NaN  \n",
              "4                                          -  NaN  \n",
              "...                                      ...  ...  \n",
              "133491                                     -  NaN  \n",
              "133496                                     -  NaN  \n",
              "133526                                     -  NaN  \n",
              "133540                                     -  NaN  \n",
              "133543                                     -  NaN  \n",
              "\n",
              "[91748 rows x 13 columns]"
            ],
            "text/html": [
              "\n",
              "  <div id=\"df-4f34723a-7c7c-4d4a-a963-14b2f5b2a548\" class=\"colab-df-container\">\n",
              "    <div>\n",
              "<style scoped>\n",
              "    .dataframe tbody tr th:only-of-type {\n",
              "        vertical-align: middle;\n",
              "    }\n",
              "\n",
              "    .dataframe tbody tr th {\n",
              "        vertical-align: top;\n",
              "    }\n",
              "\n",
              "    .dataframe thead th {\n",
              "        text-align: right;\n",
              "    }\n",
              "</style>\n",
              "<table border=\"1\" class=\"dataframe\">\n",
              "  <thead>\n",
              "    <tr style=\"text-align: right;\">\n",
              "      <th></th>\n",
              "      <th>EKSAMI_SOORITAJA</th>\n",
              "      <th>KUUPAEV</th>\n",
              "      <th>BYROO</th>\n",
              "      <th>KATEGOORIA</th>\n",
              "      <th>ERITINGIMUSED</th>\n",
              "      <th>VIIMANE_AUTOKOOL</th>\n",
              "      <th>SOIDUOPETAJA_KAASAS</th>\n",
              "      <th>EKSAMINEERIJA</th>\n",
              "      <th>SEISUND</th>\n",
              "      <th>KESTUS</th>\n",
              "      <th>KATK_POHJUS</th>\n",
              "      <th>MITTEARVESTATUD</th>\n",
              "      <th>VEAD</th>\n",
              "    </tr>\n",
              "  </thead>\n",
              "  <tbody>\n",
              "    <tr>\n",
              "      <th>0</th>\n",
              "      <td>fd4a476c2fff5845</td>\n",
              "      <td>2021-01</td>\n",
              "      <td>Haapsalu</td>\n",
              "      <td>B</td>\n",
              "      <td>101</td>\n",
              "      <td>osaühing KLIMBERG</td>\n",
              "      <td>E</td>\n",
              "      <td>31451a368e962058</td>\n",
              "      <td>SOORITATUD</td>\n",
              "      <td>50.0</td>\n",
              "      <td>NaN</td>\n",
              "      <td>-</td>\n",
              "      <td>NaN</td>\n",
              "    </tr>\n",
              "    <tr>\n",
              "      <th>1</th>\n",
              "      <td>8fe3816987e62971</td>\n",
              "      <td>2021-01</td>\n",
              "      <td>Jõgeva</td>\n",
              "      <td>B</td>\n",
              "      <td>101</td>\n",
              "      <td>OÜ AUTOSÕIT</td>\n",
              "      <td>E</td>\n",
              "      <td>ae264be409f2ca9f</td>\n",
              "      <td>MITTE_SOORITATUD</td>\n",
              "      <td>24.0</td>\n",
              "      <td>NaN</td>\n",
              "      <td>EESOIGUS</td>\n",
              "      <td>NaN</td>\n",
              "    </tr>\n",
              "    <tr>\n",
              "      <th>2</th>\n",
              "      <td>1131ad82d5710721</td>\n",
              "      <td>2021-01</td>\n",
              "      <td>Põlva</td>\n",
              "      <td>B</td>\n",
              "      <td>101</td>\n",
              "      <td>H&amp;M MERTENS OÜ</td>\n",
              "      <td>E</td>\n",
              "      <td>40bcf2cea820fca6</td>\n",
              "      <td>MITTE_SOORITATUD</td>\n",
              "      <td>24.0</td>\n",
              "      <td>NaN</td>\n",
              "      <td>EESOIGUS</td>\n",
              "      <td>NaN</td>\n",
              "    </tr>\n",
              "    <tr>\n",
              "      <th>3</th>\n",
              "      <td>819bfde54073d8e7</td>\n",
              "      <td>2021-01</td>\n",
              "      <td>Võru</td>\n",
              "      <td>B</td>\n",
              "      <td>101</td>\n",
              "      <td>Tugev Partner OÜ</td>\n",
              "      <td>E</td>\n",
              "      <td>bf2b7218d36e2a3d</td>\n",
              "      <td>MITTE_SOORITATUD</td>\n",
              "      <td>48.0</td>\n",
              "      <td>NaN</td>\n",
              "      <td>JALGIMINE|LIIKLUSOHUTUS|TEELPUSIMINE</td>\n",
              "      <td>NaN</td>\n",
              "    </tr>\n",
              "    <tr>\n",
              "      <th>4</th>\n",
              "      <td>06493201c082d7f2</td>\n",
              "      <td>2021-01</td>\n",
              "      <td>Haapsalu</td>\n",
              "      <td>B</td>\n",
              "      <td>101</td>\n",
              "      <td>OÜ Raak Company</td>\n",
              "      <td>E</td>\n",
              "      <td>31451a368e962058</td>\n",
              "      <td>SOORITATUD</td>\n",
              "      <td>51.0</td>\n",
              "      <td>NaN</td>\n",
              "      <td>-</td>\n",
              "      <td>NaN</td>\n",
              "    </tr>\n",
              "    <tr>\n",
              "      <th>...</th>\n",
              "      <td>...</td>\n",
              "      <td>...</td>\n",
              "      <td>...</td>\n",
              "      <td>...</td>\n",
              "      <td>...</td>\n",
              "      <td>...</td>\n",
              "      <td>...</td>\n",
              "      <td>...</td>\n",
              "      <td>...</td>\n",
              "      <td>...</td>\n",
              "      <td>...</td>\n",
              "      <td>...</td>\n",
              "      <td>...</td>\n",
              "    </tr>\n",
              "    <tr>\n",
              "      <th>133491</th>\n",
              "      <td>1d8857ced7722b21</td>\n",
              "      <td>2023-09</td>\n",
              "      <td>Rakvere</td>\n",
              "      <td>B</td>\n",
              "      <td>NaN</td>\n",
              "      <td>NaN</td>\n",
              "      <td>E</td>\n",
              "      <td>4141299ff500eb11</td>\n",
              "      <td>SOORITATUD</td>\n",
              "      <td>44.0</td>\n",
              "      <td>NaN</td>\n",
              "      <td>-</td>\n",
              "      <td>NaN</td>\n",
              "    </tr>\n",
              "    <tr>\n",
              "      <th>133496</th>\n",
              "      <td>3154660ac35b30f8</td>\n",
              "      <td>2023-09</td>\n",
              "      <td>Tallinn</td>\n",
              "      <td>B</td>\n",
              "      <td>NaN</td>\n",
              "      <td>NaN</td>\n",
              "      <td>E</td>\n",
              "      <td>0f8b5f7ee00be8ae</td>\n",
              "      <td>SOORITATUD</td>\n",
              "      <td>47.0</td>\n",
              "      <td>NaN</td>\n",
              "      <td>-</td>\n",
              "      <td>NaN</td>\n",
              "    </tr>\n",
              "    <tr>\n",
              "      <th>133526</th>\n",
              "      <td>09152e98c6984f9f</td>\n",
              "      <td>2023-11</td>\n",
              "      <td>Tartu</td>\n",
              "      <td>B</td>\n",
              "      <td>NaN</td>\n",
              "      <td>VPK Koolitus OÜ</td>\n",
              "      <td>E</td>\n",
              "      <td>602d00a56a9a8757</td>\n",
              "      <td>SOORITATUD</td>\n",
              "      <td>47.0</td>\n",
              "      <td>NaN</td>\n",
              "      <td>-</td>\n",
              "      <td>NaN</td>\n",
              "    </tr>\n",
              "    <tr>\n",
              "      <th>133540</th>\n",
              "      <td>250932f4c822d354</td>\n",
              "      <td>2023-05</td>\n",
              "      <td>Tallinn</td>\n",
              "      <td>B</td>\n",
              "      <td>NaN</td>\n",
              "      <td>NaN</td>\n",
              "      <td>E</td>\n",
              "      <td>400e86ed874ccd07</td>\n",
              "      <td>SOORITATUD</td>\n",
              "      <td>40.0</td>\n",
              "      <td>NaN</td>\n",
              "      <td>-</td>\n",
              "      <td>NaN</td>\n",
              "    </tr>\n",
              "    <tr>\n",
              "      <th>133543</th>\n",
              "      <td>32426dfae15e014f</td>\n",
              "      <td>2023-01</td>\n",
              "      <td>Võru</td>\n",
              "      <td>B</td>\n",
              "      <td>NaN</td>\n",
              "      <td>OÜ Plekk-Liisu</td>\n",
              "      <td>E</td>\n",
              "      <td>bf2b7218d36e2a3d</td>\n",
              "      <td>SOORITATUD</td>\n",
              "      <td>40.0</td>\n",
              "      <td>NaN</td>\n",
              "      <td>-</td>\n",
              "      <td>NaN</td>\n",
              "    </tr>\n",
              "  </tbody>\n",
              "</table>\n",
              "<p>91748 rows × 13 columns</p>\n",
              "</div>\n",
              "    <div class=\"colab-df-buttons\">\n",
              "\n",
              "  <div class=\"colab-df-container\">\n",
              "    <button class=\"colab-df-convert\" onclick=\"convertToInteractive('df-4f34723a-7c7c-4d4a-a963-14b2f5b2a548')\"\n",
              "            title=\"Convert this dataframe to an interactive table.\"\n",
              "            style=\"display:none;\">\n",
              "\n",
              "  <svg xmlns=\"http://www.w3.org/2000/svg\" height=\"24px\" viewBox=\"0 -960 960 960\">\n",
              "    <path d=\"M120-120v-720h720v720H120Zm60-500h600v-160H180v160Zm220 220h160v-160H400v160Zm0 220h160v-160H400v160ZM180-400h160v-160H180v160Zm440 0h160v-160H620v160ZM180-180h160v-160H180v160Zm440 0h160v-160H620v160Z\"/>\n",
              "  </svg>\n",
              "    </button>\n",
              "\n",
              "  <style>\n",
              "    .colab-df-container {\n",
              "      display:flex;\n",
              "      gap: 12px;\n",
              "    }\n",
              "\n",
              "    .colab-df-convert {\n",
              "      background-color: #E8F0FE;\n",
              "      border: none;\n",
              "      border-radius: 50%;\n",
              "      cursor: pointer;\n",
              "      display: none;\n",
              "      fill: #1967D2;\n",
              "      height: 32px;\n",
              "      padding: 0 0 0 0;\n",
              "      width: 32px;\n",
              "    }\n",
              "\n",
              "    .colab-df-convert:hover {\n",
              "      background-color: #E2EBFA;\n",
              "      box-shadow: 0px 1px 2px rgba(60, 64, 67, 0.3), 0px 1px 3px 1px rgba(60, 64, 67, 0.15);\n",
              "      fill: #174EA6;\n",
              "    }\n",
              "\n",
              "    .colab-df-buttons div {\n",
              "      margin-bottom: 4px;\n",
              "    }\n",
              "\n",
              "    [theme=dark] .colab-df-convert {\n",
              "      background-color: #3B4455;\n",
              "      fill: #D2E3FC;\n",
              "    }\n",
              "\n",
              "    [theme=dark] .colab-df-convert:hover {\n",
              "      background-color: #434B5C;\n",
              "      box-shadow: 0px 1px 3px 1px rgba(0, 0, 0, 0.15);\n",
              "      filter: drop-shadow(0px 1px 2px rgba(0, 0, 0, 0.3));\n",
              "      fill: #FFFFFF;\n",
              "    }\n",
              "  </style>\n",
              "\n",
              "    <script>\n",
              "      const buttonEl =\n",
              "        document.querySelector('#df-4f34723a-7c7c-4d4a-a963-14b2f5b2a548 button.colab-df-convert');\n",
              "      buttonEl.style.display =\n",
              "        google.colab.kernel.accessAllowed ? 'block' : 'none';\n",
              "\n",
              "      async function convertToInteractive(key) {\n",
              "        const element = document.querySelector('#df-4f34723a-7c7c-4d4a-a963-14b2f5b2a548');\n",
              "        const dataTable =\n",
              "          await google.colab.kernel.invokeFunction('convertToInteractive',\n",
              "                                                    [key], {});\n",
              "        if (!dataTable) return;\n",
              "\n",
              "        const docLinkHtml = 'Like what you see? Visit the ' +\n",
              "          '<a target=\"_blank\" href=https://colab.research.google.com/notebooks/data_table.ipynb>data table notebook</a>'\n",
              "          + ' to learn more about interactive tables.';\n",
              "        element.innerHTML = '';\n",
              "        dataTable['output_type'] = 'display_data';\n",
              "        await google.colab.output.renderOutput(dataTable, element);\n",
              "        const docLink = document.createElement('div');\n",
              "        docLink.innerHTML = docLinkHtml;\n",
              "        element.appendChild(docLink);\n",
              "      }\n",
              "    </script>\n",
              "  </div>\n",
              "\n",
              "\n",
              "<div id=\"df-fb121dbe-1ce4-4f76-9d03-9047bb9bc6d3\">\n",
              "  <button class=\"colab-df-quickchart\" onclick=\"quickchart('df-fb121dbe-1ce4-4f76-9d03-9047bb9bc6d3')\"\n",
              "            title=\"Suggest charts\"\n",
              "            style=\"display:none;\">\n",
              "\n",
              "<svg xmlns=\"http://www.w3.org/2000/svg\" height=\"24px\"viewBox=\"0 0 24 24\"\n",
              "     width=\"24px\">\n",
              "    <g>\n",
              "        <path d=\"M19 3H5c-1.1 0-2 .9-2 2v14c0 1.1.9 2 2 2h14c1.1 0 2-.9 2-2V5c0-1.1-.9-2-2-2zM9 17H7v-7h2v7zm4 0h-2V7h2v10zm4 0h-2v-4h2v4z\"/>\n",
              "    </g>\n",
              "</svg>\n",
              "  </button>\n",
              "\n",
              "<style>\n",
              "  .colab-df-quickchart {\n",
              "      --bg-color: #E8F0FE;\n",
              "      --fill-color: #1967D2;\n",
              "      --hover-bg-color: #E2EBFA;\n",
              "      --hover-fill-color: #174EA6;\n",
              "      --disabled-fill-color: #AAA;\n",
              "      --disabled-bg-color: #DDD;\n",
              "  }\n",
              "\n",
              "  [theme=dark] .colab-df-quickchart {\n",
              "      --bg-color: #3B4455;\n",
              "      --fill-color: #D2E3FC;\n",
              "      --hover-bg-color: #434B5C;\n",
              "      --hover-fill-color: #FFFFFF;\n",
              "      --disabled-bg-color: #3B4455;\n",
              "      --disabled-fill-color: #666;\n",
              "  }\n",
              "\n",
              "  .colab-df-quickchart {\n",
              "    background-color: var(--bg-color);\n",
              "    border: none;\n",
              "    border-radius: 50%;\n",
              "    cursor: pointer;\n",
              "    display: none;\n",
              "    fill: var(--fill-color);\n",
              "    height: 32px;\n",
              "    padding: 0;\n",
              "    width: 32px;\n",
              "  }\n",
              "\n",
              "  .colab-df-quickchart:hover {\n",
              "    background-color: var(--hover-bg-color);\n",
              "    box-shadow: 0 1px 2px rgba(60, 64, 67, 0.3), 0 1px 3px 1px rgba(60, 64, 67, 0.15);\n",
              "    fill: var(--button-hover-fill-color);\n",
              "  }\n",
              "\n",
              "  .colab-df-quickchart-complete:disabled,\n",
              "  .colab-df-quickchart-complete:disabled:hover {\n",
              "    background-color: var(--disabled-bg-color);\n",
              "    fill: var(--disabled-fill-color);\n",
              "    box-shadow: none;\n",
              "  }\n",
              "\n",
              "  .colab-df-spinner {\n",
              "    border: 2px solid var(--fill-color);\n",
              "    border-color: transparent;\n",
              "    border-bottom-color: var(--fill-color);\n",
              "    animation:\n",
              "      spin 1s steps(1) infinite;\n",
              "  }\n",
              "\n",
              "  @keyframes spin {\n",
              "    0% {\n",
              "      border-color: transparent;\n",
              "      border-bottom-color: var(--fill-color);\n",
              "      border-left-color: var(--fill-color);\n",
              "    }\n",
              "    20% {\n",
              "      border-color: transparent;\n",
              "      border-left-color: var(--fill-color);\n",
              "      border-top-color: var(--fill-color);\n",
              "    }\n",
              "    30% {\n",
              "      border-color: transparent;\n",
              "      border-left-color: var(--fill-color);\n",
              "      border-top-color: var(--fill-color);\n",
              "      border-right-color: var(--fill-color);\n",
              "    }\n",
              "    40% {\n",
              "      border-color: transparent;\n",
              "      border-right-color: var(--fill-color);\n",
              "      border-top-color: var(--fill-color);\n",
              "    }\n",
              "    60% {\n",
              "      border-color: transparent;\n",
              "      border-right-color: var(--fill-color);\n",
              "    }\n",
              "    80% {\n",
              "      border-color: transparent;\n",
              "      border-right-color: var(--fill-color);\n",
              "      border-bottom-color: var(--fill-color);\n",
              "    }\n",
              "    90% {\n",
              "      border-color: transparent;\n",
              "      border-bottom-color: var(--fill-color);\n",
              "    }\n",
              "  }\n",
              "</style>\n",
              "\n",
              "  <script>\n",
              "    async function quickchart(key) {\n",
              "      const quickchartButtonEl =\n",
              "        document.querySelector('#' + key + ' button');\n",
              "      quickchartButtonEl.disabled = true;  // To prevent multiple clicks.\n",
              "      quickchartButtonEl.classList.add('colab-df-spinner');\n",
              "      try {\n",
              "        const charts = await google.colab.kernel.invokeFunction(\n",
              "            'suggestCharts', [key], {});\n",
              "      } catch (error) {\n",
              "        console.error('Error during call to suggestCharts:', error);\n",
              "      }\n",
              "      quickchartButtonEl.classList.remove('colab-df-spinner');\n",
              "      quickchartButtonEl.classList.add('colab-df-quickchart-complete');\n",
              "    }\n",
              "    (() => {\n",
              "      let quickchartButtonEl =\n",
              "        document.querySelector('#df-fb121dbe-1ce4-4f76-9d03-9047bb9bc6d3 button');\n",
              "      quickchartButtonEl.style.display =\n",
              "        google.colab.kernel.accessAllowed ? 'block' : 'none';\n",
              "    })();\n",
              "  </script>\n",
              "</div>\n",
              "    </div>\n",
              "  </div>\n"
            ]
          },
          "metadata": {},
          "execution_count": 8
        }
      ]
    },
    {
      "cell_type": "code",
      "source": [
        "# We keep the first driving test result per examinee.\n",
        "data = data.drop_duplicates(subset=['EKSAMI_SOORITAJA'], keep='first')\n",
        "\n",
        "# We get balanced data.\n",
        "print(\"The number of all tests: \" + str(len(data)))\n",
        "print(\"The number of passed tests: \" + str(len(data[data['SEISUND'] == 'SOORITATUD'])))\n",
        "print(\"The number of failed tests: \" + str(len(data[data['SEISUND'] == 'MITTE_SOORITATUD'])))"
      ],
      "metadata": {
        "id": "wIXI1RrwCoTs",
        "colab": {
          "base_uri": "https://localhost:8080/"
        },
        "outputId": "92d00002-f7ce-4b12-98a5-11f1ed2f70d4"
      },
      "execution_count": null,
      "outputs": [
        {
          "output_type": "stream",
          "name": "stdout",
          "text": [
            "The number of all tests: 48665\n",
            "The number of passed tests: 24696\n",
            "The number of failed tests: 23969\n"
          ]
        }
      ]
    },
    {
      "cell_type": "markdown",
      "source": [
        "## Statistika"
      ],
      "metadata": {
        "id": "QSz72oBchNry"
      }
    },
    {
      "cell_type": "code",
      "source": [
        "## Graphs\n",
        "## Exam duration distribution\n",
        "import matplotlib.pyplot as plt\n",
        "\n",
        "passed = data[data['SEISUND'] == 'SOORITATUD']['KESTUS']\n",
        "not_passed = data[data['SEISUND'] == 'MITTE_SOORITATUD']['KESTUS']\n",
        "\n",
        "plt.figure(figsize=(17,7))\n",
        "plt.hist(passed, bins=40, alpha=0.5, label='Passed', color='blue')\n",
        "plt.hist(not_passed, bins=40, alpha=0.6, label='Not Passed', color='#E12E54')\n",
        "plt.xlabel('Exam duration in minutes', fontsize=15)\n",
        "plt.ylabel('Frequency', fontsize=15)\n",
        "plt.legend(fontsize=15)\n",
        "plt.show()"
      ],
      "metadata": {
        "id": "axHq_XJLNPYI",
        "colab": {
          "base_uri": "https://localhost:8080/",
          "height": 515
        },
        "outputId": "1dcbac64-60c3-469b-8f47-34bdd64e6828"
      },
      "execution_count": null,
      "outputs": [
        {
          "output_type": "display_data",
          "data": {
            "text/plain": [
              "<Figure size 1700x700 with 1 Axes>"
            ],
            "image/png": "[encoded data removed]"
          },
          "metadata": {}
        }
      ]
    },
    {
      "cell_type": "code",
      "source": [
        "passed = data[data['SEISUND'] == 'SOORITATUD']\n",
        "not_passed = data[data['SEISUND'] == 'MITTE_SOORITATUD']\n",
        "cities = data['BYROO'].unique()\n",
        "cities = cities[np.argsort(cities)]\n",
        "\n",
        "passed2 = [len(passed[passed['BYROO'] == city]) for city in cities]\n",
        "not_passed2 = [len(not_passed[not_passed['BYROO'] == city]) for city in cities]\n",
        "\n",
        "plt.figure(figsize=(17,7))\n",
        "plt.bar(cities, passed2, color='#7F7FFF', label='Passed')\n",
        "plt.bar(cities, not_passed2, bottom=passed2, color='#ED8198', label='Not Passed')\n",
        "plt.ylabel('Frequency', fontsize=15)\n",
        "plt.xticks(fontsize=11.5)\n",
        "plt.legend(fontsize=15)\n",
        "plt.show()"
      ],
      "metadata": {
        "id": "StTy0j3bNUUO",
        "colab": {
          "base_uri": "https://localhost:8080/",
          "height": 493
        },
        "outputId": "4c4b4fc3-0a28-4a46-e02a-05bac9c5cf5d"
      },
      "execution_count": null,
      "outputs": [
        {
          "output_type": "display_data",
          "data": {
            "text/plain": [
              "<Figure size 1700x700 with 1 Axes>"
            ],
            "image/png": "[encoded data removed]"
          },
          "metadata": {}
        }
      ]
    },
    {
      "cell_type": "code",
      "source": [
        "## Exams passed and not passed based on examinator\n",
        "\n",
        "# These are most important examinators:\n",
        "# EKSAMINEERIJA_5c9ee299be483144 9.253931999206543\n",
        "# EKSAMINEERIJA_4ee4a4702131dac3 9.689840316772461\n",
        "# EKSAMINEERIJA_3d6f4cd3cca10b28 9.917737007141113\n",
        "# EKSAMINEERIJA_b3e368548c216eb8 14.2548828125\n",
        "# EKSAMINEERIJA_e14095bf73a253c7 17.54462432861328\n",
        "# EKSAMINEERIJA_faeaf99580d6be30 17.718341827392578\n",
        "# EKSAMINEERIJA_bf2b7218d36e2a3d 18.53909683227539\n",
        "# EKSAMINEERIJA_ea58f592917668cf 19.708385467529297\n",
        "# EKSAMINEERIJA_31451a368e962058 36.393985748291016\n",
        "# EKSAMINEERIJA_844452b4e4bac2ef 41.46123504638672\n",
        "names = ['Examinator1', 'Examinator2', 'Examinator3', 'Examinator4', 'Examinator5', 'Examinator6', 'Examinator7', 'Examinator8', 'Examinator9',\n",
        "         'Examinator10']\n",
        "ids = ['844452b4e4bac2ef', '31451a368e962058', 'ea58f592917668cf', 'bf2b7218d36e2a3d', 'faeaf99580d6be30', 'e14095bf73a253c7', 'b3e368548c216eb8',\n",
        "       '3d6f4cd3cca10b28', '4ee4a4702131dac3', '5c9ee299be483144']\n",
        "\n",
        "passed = data[data['SEISUND'] == 'SOORITATUD']\n",
        "not_passed = data[data['SEISUND'] == 'MITTE_SOORITATUD']\n",
        "passed2 = [len(passed[passed['EKSAMINEERIJA'] == id]) for id in ids]\n",
        "not_passed2 = [len(not_passed[not_passed['EKSAMINEERIJA'] == id]) for id in ids]\n",
        "\n",
        "plt.figure(figsize=(17,7))\n",
        "plt.bar(ids, passed2, color='#7F7FFF', label='Passed')\n",
        "plt.bar(ids, not_passed2, bottom=passed2, color='#ED8198', label='Not Passed')\n",
        "plt.ylabel('Frequency', fontsize=15)\n",
        "plt.xticks(range(len(names)), names, fontsize=11.5)\n",
        "plt.legend(fontsize=15)\n",
        "plt.show()"
      ],
      "metadata": {
        "id": "Q3-F0FyvNX7L",
        "colab": {
          "base_uri": "https://localhost:8080/",
          "height": 496
        },
        "outputId": "440dfb13-abab-4f44-8509-842ad8381903"
      },
      "execution_count": null,
      "outputs": [
        {
          "output_type": "display_data",
          "data": {
            "text/plain": [
              "<Figure size 1700x700 with 1 Axes>"
            ],
            "image/png": "[encoded data removed]"
          },
          "metadata": {}
        }
      ]
    },
    {
      "cell_type": "markdown",
      "source": [
        "## Hot-encoding \"Mittearvestatud\" column"
      ],
      "metadata": {
        "id": "Hscqa22G5Kr4"
      }
    },
    {
      "cell_type": "code",
      "source": [
        "reasons = []\n",
        "\n",
        "data_reasons_HEC = data.copy()\n",
        "\n",
        "for index, row in data_reasons_HEC[data_reasons_HEC[\"SEISUND\"] == \"MITTE_SOORITATUD\"].iterrows():\n",
        "  strings = row['MITTEARVESTATUD'].split('|')\n",
        "  for elem in strings:\n",
        "    reasons.append(elem)\n",
        "\n",
        "reasons_list = Counter(reasons)\n",
        "\n",
        "#Creating columns\n",
        "zeros = [0 for i in range(len(data_reasons_HEC))]\n",
        "for reason in reasons_list.most_common():\n",
        "  columnName = \"MITTE_SOORITATUD_\" + str(reason[0])\n",
        "  data_reasons_HEC.loc[:, columnName] = zeros\n",
        "\n",
        "# Adding info to columns\n",
        "for index, row in data_reasons_HEC.iterrows():\n",
        "  reasons_split = row['MITTEARVESTATUD'].split('|')\n",
        "  for elem in reasons_split:\n",
        "    columnName = \"MITTE_SOORITATUD_\" + str(elem)\n",
        "    data_reasons_HEC.at[index, columnName] = 1"
      ],
      "metadata": {
        "id": "xMtvA5GRuSUn"
      },
      "execution_count": null,
      "outputs": []
    },
    {
      "cell_type": "markdown",
      "source": [
        "# Spliting the data"
      ],
      "metadata": {
        "id": "od3HQgUehWHH"
      }
    },
    {
      "cell_type": "markdown",
      "source": [
        "Train set 90%, val set 5% and tests set 5%."
      ],
      "metadata": {
        "id": "AzBfM8yZhpu1"
      }
    },
    {
      "cell_type": "code",
      "source": [
        "from sklearn.model_selection import train_test_split, cross_val_score\n",
        "\n",
        "np.random.seed(1111)\n",
        "\n",
        "# Replacing values in the 'SEISUND' (results) column with integer values.\n",
        "data['SEISUND'] = data['SEISUND'].str.replace('MITTE_SOORITATUD', '0', regex=True)\n",
        "data['SEISUND'] = data['SEISUND'].str.replace('SOORITATUD', '1', regex=True)\n",
        "data['SEISUND'] = (data['SEISUND']).astype(int)\n",
        "\n",
        "# We remove some unnecessary column (they say much information about the exam result or not enough)\n",
        "data_dropped_columns = data.drop(columns=['EKSAMI_SOORITAJA', 'SOIDUOPETAJA_KAASAS', 'KATK_POHJUS', 'MITTEARVESTATUD', 'VEAD',  'KESTUS', 'ERITINGIMUSED'])\n",
        "\n",
        "data_encoded = pd.get_dummies(data_dropped_columns, columns=[ 'KUUPAEV', 'BYROO', 'VIIMANE_AUTOKOOL', 'KATEGOORIA', 'EKSAMINEERIJA'])\n",
        "data_encoded = data_encoded.dropna()\n",
        "\n",
        "# Splitting the data\n",
        "train_val, test = train_test_split(data_encoded, random_state = 111, test_size = 0.05)\n",
        "\n",
        "train, val = train_test_split(train_val, random_state = 111, test_size = 1/19)\n",
        "\n",
        "train_X = train.drop('SEISUND', axis=1)\n",
        "train_y = train['SEISUND']\n",
        "\n",
        "test_X = test.drop('SEISUND', axis=1)\n",
        "test_y = test['SEISUND']\n",
        "\n",
        "val_X = val.drop('SEISUND', axis=1)\n",
        "val_y = val['SEISUND']\n"
      ],
      "metadata": {
        "id": "HzWIs4fSOIVU",
        "colab": {
          "base_uri": "https://localhost:8080/"
        },
        "outputId": "60548d0f-ebac-4a1e-8c4b-0b384a2d1a0f"
      },
      "execution_count": null,
      "outputs": [
        {
          "output_type": "stream",
          "name": "stderr",
          "text": [
            "<ipython-input-14-4363ff9c53ac>:6: SettingWithCopyWarning: \n",
            "A value is trying to be set on a copy of a slice from a DataFrame.\n",
            "Try using .loc[row_indexer,col_indexer] = value instead\n",
            "\n",
            "See the caveats in the documentation: https://pandas.pydata.org/pandas-docs/stable/user_guide/indexing.html#returning-a-view-versus-a-copy\n",
            "  data['SEISUND'] = data['SEISUND'].str.replace('MITTE_SOORITATUD', '0', regex=True)\n",
            "<ipython-input-14-4363ff9c53ac>:7: SettingWithCopyWarning: \n",
            "A value is trying to be set on a copy of a slice from a DataFrame.\n",
            "Try using .loc[row_indexer,col_indexer] = value instead\n",
            "\n",
            "See the caveats in the documentation: https://pandas.pydata.org/pandas-docs/stable/user_guide/indexing.html#returning-a-view-versus-a-copy\n",
            "  data['SEISUND'] = data['SEISUND'].str.replace('SOORITATUD', '1', regex=True)\n",
            "<ipython-input-14-4363ff9c53ac>:8: SettingWithCopyWarning: \n",
            "A value is trying to be set on a copy of a slice from a DataFrame.\n",
            "Try using .loc[row_indexer,col_indexer] = value instead\n",
            "\n",
            "See the caveats in the documentation: https://pandas.pydata.org/pandas-docs/stable/user_guide/indexing.html#returning-a-view-versus-a-copy\n",
            "  data['SEISUND'] = (data['SEISUND']).astype(int)\n"
          ]
        }
      ]
    },
    {
      "cell_type": "markdown",
      "source": [
        "# Simple ML models"
      ],
      "metadata": {
        "id": "5y9fWAFrpeqd"
      }
    },
    {
      "cell_type": "markdown",
      "source": [
        "First we try some simple machine learning classification models."
      ],
      "metadata": {
        "id": "PyomKjAW-ofH"
      }
    },
    {
      "cell_type": "markdown",
      "source": [
        "## DecisionTreeClassifier"
      ],
      "metadata": {
        "id": "efV4rmii9QEm"
      }
    },
    {
      "cell_type": "code",
      "source": [
        "from sklearn.tree import DecisionTreeClassifier, plot_tree\n",
        "\n",
        "# Create a model\n",
        "model_DTR = DecisionTreeClassifier(max_depth=5)\n",
        "\n",
        "# Fit the model\n",
        "model_DTR.fit(X=train_X, y=train_y)\n",
        "\n",
        "# Make predictions\n",
        "y_pred_DTR = model_DTR.predict(test_X)\n",
        "\n",
        "# Evaluate accuracy\n",
        "accuracy_DTR = accuracy_score(test_y, y_pred_DTR)\n",
        "print(f'Accuracy for DecisionTreeClassifier: {accuracy_DTR}')"
      ],
      "metadata": {
        "id": "JMkGzGnDMcXS",
        "colab": {
          "base_uri": "https://localhost:8080/"
        },
        "outputId": "2e8b8334-9b47-4159-d12c-865e6d58e381"
      },
      "execution_count": null,
      "outputs": [
        {
          "output_type": "stream",
          "name": "stdout",
          "text": [
            "Accuracy for DecisionTreeClassifier: 0.6023007395234182\n"
          ]
        }
      ]
    },
    {
      "cell_type": "markdown",
      "source": [
        "## KNN Classifier"
      ],
      "metadata": {
        "id": "_wARtcQoi5Cw"
      }
    },
    {
      "cell_type": "code",
      "source": [
        "from sklearn.neighbors import KNeighborsClassifier\n",
        "\n",
        "neighbors = [1, 5, 10, 15, 20, 25, 50, 75, 100]\n",
        "\n",
        "for i in neighbors:\n",
        "  model_knn = KNeighborsClassifier(n_neighbors=i)\n",
        "  model_knn.fit(train_X, train_y)\n",
        "\n",
        "  y_pred_KNN = model_knn.predict(test_X)\n",
        "\n",
        "  accuracy_KNN = accuracy_score(test_y, y_pred_KNN)\n",
        "  print('Accuracy for KNN (' + str(i) + f' neighbors): {accuracy_KNN}')"
      ],
      "metadata": {
        "id": "dvg1K-cHp5VP",
        "colab": {
          "base_uri": "https://localhost:8080/"
        },
        "outputId": "43d37624-6981-47ea-9b75-0024cc53e25b"
      },
      "execution_count": null,
      "outputs": [
        {
          "output_type": "stream",
          "name": "stdout",
          "text": [
            "Accuracy for KNN (1 neighbors): 0.5805258833196385\n",
            "Accuracy for KNN (5 neighbors): 0.594494658997535\n",
            "Accuracy for KNN (10 neighbors): 0.604354971240756\n",
            "Accuracy for KNN (15 neighbors): 0.6175020542317173\n",
            "Accuracy for KNN (20 neighbors): 0.6170912078882498\n",
            "Accuracy for KNN (25 neighbors): 0.6138044371405095\n",
            "Accuracy for KNN (50 neighbors): 0.6146261298274446\n",
            "Accuracy for KNN (75 neighbors): 0.6265406737880033\n",
            "Accuracy for KNN (100 neighbors): 0.6273623664749384\n"
          ]
        }
      ]
    },
    {
      "cell_type": "markdown",
      "source": [
        "## Logistic Regression"
      ],
      "metadata": {
        "id": "wEBLySCzIh74"
      }
    },
    {
      "cell_type": "code",
      "source": [
        "from sklearn.linear_model import LogisticRegression\n",
        "\n",
        "model_logreg = LogisticRegression()\n",
        "model_logreg.fit(train_X, train_y)\n",
        "\n",
        "y_pred_logreg = model_logreg.predict(test_X)\n",
        "\n",
        "accuracy_logreg = accuracy_score(test_y, y_pred_logreg)\n",
        "print(f'Accuracy for Logistic Regression: {accuracy_KNN}')"
      ],
      "metadata": {
        "id": "chU_JED8Hq5Q",
        "colab": {
          "base_uri": "https://localhost:8080/"
        },
        "outputId": "299a545c-1b9c-46a4-a2bc-3925843c8263"
      },
      "execution_count": null,
      "outputs": [
        {
          "output_type": "stream",
          "name": "stdout",
          "text": [
            "Accuracy for Logistic Regression: 0.6273623664749384\n"
          ]
        },
        {
          "output_type": "stream",
          "name": "stderr",
          "text": [
            "/usr/local/lib/python3.10/dist-packages/sklearn/linear_model/_logistic.py:458: ConvergenceWarning: lbfgs failed to converge (status=1):\n",
            "STOP: TOTAL NO. of ITERATIONS REACHED LIMIT.\n",
            "\n",
            "Increase the number of iterations (max_iter) or scale the data as shown in:\n",
            "    https://scikit-learn.org/stable/modules/preprocessing.html\n",
            "Please also refer to the documentation for alternative solver options:\n",
            "    https://scikit-learn.org/stable/modules/linear_model.html#logistic-regression\n",
            "  n_iter_i = _check_optimize_result(\n"
          ]
        }
      ]
    },
    {
      "cell_type": "markdown",
      "source": [
        "# Ensemble learning"
      ],
      "metadata": {
        "id": "Ob4-xr_sph_M"
      }
    },
    {
      "cell_type": "markdown",
      "source": [
        "Now we try multiple different ensemble learning models."
      ],
      "metadata": {
        "id": "fmFO6-Rd_kIj"
      }
    },
    {
      "cell_type": "markdown",
      "source": [
        "## XGBoost"
      ],
      "metadata": {
        "id": "8dYRpUgP9zCg"
      }
    },
    {
      "cell_type": "code",
      "source": [
        "import xgboost as xgb\n",
        "from sklearn.metrics import accuracy_score\n",
        "\n",
        "# XGBoost wants data to be wrapped into special formats\n",
        "dtrain = xgb.DMatrix(train_X, label=train_y, enable_categorical=True)\n",
        "dval = xgb.DMatrix(val_X, label=val_y, enable_categorical=True)\n",
        "dtest = xgb.DMatrix(test_X, label=test_y, enable_categorical=True)\n",
        "\n",
        "# Define the XGBoost parameters (you can add more parameters if you want)\n",
        "params = {\n",
        "    \"num_class\": 2,\n",
        "    \"num_boost_round\": 50,\n",
        "    \"early_stopping_rounds\": 10 # If nothing seems to improve for * * iterations - stop\n",
        "}\n",
        "\n",
        "# Train for training and val for validation\n",
        "eval_list = [(dtrain, 'train'), (dval, 'eval')]\n",
        "\n",
        "# Train the XGBoost model\n",
        "XGBmodel = xgb.train(params, dtrain, 80, eval_list)\n",
        "\n",
        "y_pred_XGB = XGBmodel.predict(dtest)\n",
        "predictions_XGB = [int(elem) for elem in y_pred_XGB]\n",
        "test_labels_XGB = [int(elem) for elem in test_y.to_numpy()]\n",
        "correct_XGB = [predictions_XGB[i] == test_labels_XGB[i] for i in range(len(test_labels_XGB))]\n",
        "accuracy_XGB = np.sum(correct_XGB)/len(test_labels_XGB)\n",
        "print(f'Accuracy for XGBoost: {accuracy_XGB}')"
      ],
      "metadata": {
        "id": "SGqUDXCL91h3",
        "colab": {
          "base_uri": "https://localhost:8080/"
        },
        "outputId": "5f741e45-c50d-4696-e265-8069d356af05"
      },
      "execution_count": null,
      "outputs": [
        {
          "output_type": "stream",
          "name": "stderr",
          "text": [
            "/usr/local/lib/python3.10/dist-packages/xgboost/core.py:726: FutureWarning: Pass `evals` as keyword args.\n",
            "  warnings.warn(msg, FutureWarning)\n",
            "/usr/local/lib/python3.10/dist-packages/xgboost/core.py:160: UserWarning: [12:41:25] WARNING: /workspace/src/learner.cc:742: \n",
            "Parameters: { \"early_stopping_rounds\", \"num_boost_round\" } are not used.\n",
            "\n",
            "  warnings.warn(smsg, UserWarning)\n"
          ]
        },
        {
          "output_type": "stream",
          "name": "stdout",
          "text": [
            "[0]\ttrain-mlogloss:0.67664\teval-mlogloss:0.67667\n",
            "[1]\ttrain-mlogloss:0.66762\teval-mlogloss:0.66830\n",
            "[2]\ttrain-mlogloss:0.66310\teval-mlogloss:0.66464\n",
            "[3]\ttrain-mlogloss:0.65810\teval-mlogloss:0.66185\n",
            "[4]\ttrain-mlogloss:0.65531\teval-mlogloss:0.65999\n",
            "[5]\ttrain-mlogloss:0.65301\teval-mlogloss:0.65784\n",
            "[6]\ttrain-mlogloss:0.65119\teval-mlogloss:0.65682\n",
            "[7]\ttrain-mlogloss:0.64975\teval-mlogloss:0.65582\n",
            "[8]\ttrain-mlogloss:0.64859\teval-mlogloss:0.65504\n",
            "[9]\ttrain-mlogloss:0.64737\teval-mlogloss:0.65476\n",
            "[10]\ttrain-mlogloss:0.64623\teval-mlogloss:0.65430\n",
            "[11]\ttrain-mlogloss:0.64516\teval-mlogloss:0.65327\n",
            "[12]\ttrain-mlogloss:0.64416\teval-mlogloss:0.65242\n",
            "[13]\ttrain-mlogloss:0.64328\teval-mlogloss:0.65231\n",
            "[14]\ttrain-mlogloss:0.64254\teval-mlogloss:0.65201\n",
            "[15]\ttrain-mlogloss:0.64173\teval-mlogloss:0.65157\n",
            "[16]\ttrain-mlogloss:0.64097\teval-mlogloss:0.65145\n",
            "[17]\ttrain-mlogloss:0.64027\teval-mlogloss:0.65036\n",
            "[18]\ttrain-mlogloss:0.63956\teval-mlogloss:0.64997\n",
            "[19]\ttrain-mlogloss:0.63878\teval-mlogloss:0.64951\n",
            "[20]\ttrain-mlogloss:0.63794\teval-mlogloss:0.64858\n",
            "[21]\ttrain-mlogloss:0.63729\teval-mlogloss:0.64836\n",
            "[22]\ttrain-mlogloss:0.63685\teval-mlogloss:0.64788\n",
            "[23]\ttrain-mlogloss:0.63602\teval-mlogloss:0.64780\n",
            "[24]\ttrain-mlogloss:0.63529\teval-mlogloss:0.64779\n",
            "[25]\ttrain-mlogloss:0.63467\teval-mlogloss:0.64711\n",
            "[26]\ttrain-mlogloss:0.63422\teval-mlogloss:0.64729\n",
            "[27]\ttrain-mlogloss:0.63359\teval-mlogloss:0.64712\n",
            "[28]\ttrain-mlogloss:0.63311\teval-mlogloss:0.64729\n",
            "[29]\ttrain-mlogloss:0.63265\teval-mlogloss:0.64728\n",
            "[30]\ttrain-mlogloss:0.63216\teval-mlogloss:0.64723\n",
            "[31]\ttrain-mlogloss:0.63156\teval-mlogloss:0.64677\n",
            "[32]\ttrain-mlogloss:0.63104\teval-mlogloss:0.64678\n",
            "[33]\ttrain-mlogloss:0.63031\teval-mlogloss:0.64669\n",
            "[34]\ttrain-mlogloss:0.63006\teval-mlogloss:0.64643\n",
            "[35]\ttrain-mlogloss:0.62952\teval-mlogloss:0.64618\n",
            "[36]\ttrain-mlogloss:0.62903\teval-mlogloss:0.64622\n",
            "[37]\ttrain-mlogloss:0.62851\teval-mlogloss:0.64596\n",
            "[38]\ttrain-mlogloss:0.62812\teval-mlogloss:0.64555\n",
            "[39]\ttrain-mlogloss:0.62761\teval-mlogloss:0.64554\n",
            "[40]\ttrain-mlogloss:0.62724\teval-mlogloss:0.64536\n",
            "[41]\ttrain-mlogloss:0.62673\teval-mlogloss:0.64536\n",
            "[42]\ttrain-mlogloss:0.62632\teval-mlogloss:0.64543\n",
            "[43]\ttrain-mlogloss:0.62560\teval-mlogloss:0.64497\n",
            "[44]\ttrain-mlogloss:0.62532\teval-mlogloss:0.64488\n",
            "[45]\ttrain-mlogloss:0.62508\teval-mlogloss:0.64474\n",
            "[46]\ttrain-mlogloss:0.62478\teval-mlogloss:0.64460\n",
            "[47]\ttrain-mlogloss:0.62456\teval-mlogloss:0.64459\n",
            "[48]\ttrain-mlogloss:0.62417\teval-mlogloss:0.64463\n",
            "[49]\ttrain-mlogloss:0.62381\teval-mlogloss:0.64463\n",
            "[50]\ttrain-mlogloss:0.62365\teval-mlogloss:0.64459\n",
            "[51]\ttrain-mlogloss:0.62323\teval-mlogloss:0.64476\n",
            "[52]\ttrain-mlogloss:0.62287\teval-mlogloss:0.64443\n",
            "[53]\ttrain-mlogloss:0.62264\teval-mlogloss:0.64425\n",
            "[54]\ttrain-mlogloss:0.62231\teval-mlogloss:0.64420\n",
            "[55]\ttrain-mlogloss:0.62203\teval-mlogloss:0.64414\n",
            "[56]\ttrain-mlogloss:0.62175\teval-mlogloss:0.64423\n",
            "[57]\ttrain-mlogloss:0.62155\teval-mlogloss:0.64426\n",
            "[58]\ttrain-mlogloss:0.62110\teval-mlogloss:0.64374\n",
            "[59]\ttrain-mlogloss:0.62093\teval-mlogloss:0.64351\n",
            "[60]\ttrain-mlogloss:0.62070\teval-mlogloss:0.64354\n",
            "[61]\ttrain-mlogloss:0.62058\teval-mlogloss:0.64326\n",
            "[62]\ttrain-mlogloss:0.62031\teval-mlogloss:0.64322\n",
            "[63]\ttrain-mlogloss:0.62007\teval-mlogloss:0.64307\n",
            "[64]\ttrain-mlogloss:0.61987\teval-mlogloss:0.64313\n",
            "[65]\ttrain-mlogloss:0.61963\teval-mlogloss:0.64300\n",
            "[66]\ttrain-mlogloss:0.61938\teval-mlogloss:0.64308\n",
            "[67]\ttrain-mlogloss:0.61911\teval-mlogloss:0.64326\n",
            "[68]\ttrain-mlogloss:0.61889\teval-mlogloss:0.64327\n",
            "[69]\ttrain-mlogloss:0.61862\teval-mlogloss:0.64341\n",
            "[70]\ttrain-mlogloss:0.61842\teval-mlogloss:0.64335\n",
            "[71]\ttrain-mlogloss:0.61798\teval-mlogloss:0.64377\n",
            "[72]\ttrain-mlogloss:0.61775\teval-mlogloss:0.64369\n",
            "[73]\ttrain-mlogloss:0.61758\teval-mlogloss:0.64384\n",
            "[74]\ttrain-mlogloss:0.61738\teval-mlogloss:0.64417\n",
            "[75]\ttrain-mlogloss:0.61709\teval-mlogloss:0.64404\n",
            "[76]\ttrain-mlogloss:0.61678\teval-mlogloss:0.64357\n",
            "[77]\ttrain-mlogloss:0.61654\teval-mlogloss:0.64347\n",
            "[78]\ttrain-mlogloss:0.61637\teval-mlogloss:0.64333\n",
            "[79]\ttrain-mlogloss:0.61606\teval-mlogloss:0.64325\n",
            "Accuracy for XGBoost: 0.6351684470008216\n"
          ]
        }
      ]
    },
    {
      "cell_type": "code",
      "source": [
        "# Here we see, which parameters are most important.\n",
        "# For our data, the most important column is 'EKSAMINEERIJA' (examiner).\n",
        "scores = XGBmodel.get_score(importance_type='gain')\n",
        "sortedScores = sorted(scores.items(), key=lambda x:x[1])\n",
        "\n",
        "f = open(\"XGBoost_parameter_scores_sorted.txt\", \"a\")\n",
        "for elem in sortedScores:\n",
        "  f.write(elem[0] + \" \" + str(elem[1]) + \"\\n\")\n",
        "f.close()"
      ],
      "metadata": {
        "id": "zN4W6DuxCOvS"
      },
      "execution_count": null,
      "outputs": []
    },
    {
      "cell_type": "markdown",
      "source": [
        "## XGBoost - confusion matrix"
      ],
      "metadata": {
        "id": "HQPK2sG_s3BN"
      }
    },
    {
      "cell_type": "markdown",
      "source": [
        "Next, let see how the confusion matrix looks like for out XGBoost model."
      ],
      "metadata": {
        "id": "0jv7llpZAj0u"
      }
    },
    {
      "cell_type": "code",
      "source": [
        "from sklearn.metrics import classification_report\n",
        "print(classification_report(test_y.to_numpy().astype(int), y_pred_XGB.astype(int)))"
      ],
      "metadata": {
        "id": "gN2bzAhzvC0z",
        "colab": {
          "base_uri": "https://localhost:8080/"
        },
        "outputId": "2a1ff4c1-d76f-4275-fc27-0e2a0ade8b99"
      },
      "execution_count": null,
      "outputs": [
        {
          "output_type": "stream",
          "name": "stdout",
          "text": [
            "              precision    recall  f1-score   support\n",
            "\n",
            "           0       0.61      0.64      0.62      1145\n",
            "           1       0.66      0.63      0.65      1289\n",
            "\n",
            "    accuracy                           0.64      2434\n",
            "   macro avg       0.63      0.64      0.63      2434\n",
            "weighted avg       0.64      0.64      0.64      2434\n",
            "\n"
          ]
        }
      ]
    },
    {
      "cell_type": "code",
      "source": [
        "import matplotlib as plt\n",
        "from sklearn.metrics import ConfusionMatrixDisplay, confusion_matrix\n",
        "\n",
        "cm = confusion_matrix(test_y.to_numpy().astype(int), y_pred_XGB.astype(int))\n",
        "disp = ConfusionMatrixDisplay(cm)\n",
        "disp.plot()"
      ],
      "metadata": {
        "id": "sSi4cNXayUET",
        "colab": {
          "base_uri": "https://localhost:8080/",
          "height": 466
        },
        "outputId": "a8131daf-4b19-4427-81c0-f36ac3f7950b"
      },
      "execution_count": null,
      "outputs": [
        {
          "output_type": "execute_result",
          "data": {
            "text/plain": [
              "<sklearn.metrics._plot.confusion_matrix.ConfusionMatrixDisplay at 0x7e5ca6a77100>"
            ]
          },
          "metadata": {},
          "execution_count": 21
        },
        {
          "output_type": "display_data",
          "data": {
            "text/plain": [
              "<Figure size 640x480 with 2 Axes>"
            ],
            "image/png": "[encoded data removed]"
          },
          "metadata": {}
        }
      ]
    },
    {
      "cell_type": "markdown",
      "source": [
        "## Random Forest"
      ],
      "metadata": {
        "id": "9DBcBwaGOGHb"
      }
    },
    {
      "cell_type": "code",
      "source": [
        "from sklearn.ensemble import RandomForestClassifier\n",
        "\n",
        "model_RF = RandomForestClassifier()\n",
        "model_RF.fit(train_X, train_y)\n",
        "\n",
        "y_pred_RF = model_RF.predict(test_X)\n",
        "\n",
        "accuracy_RF = accuracy_score(test_y, y_pred_RF)\n",
        "print(f'Accuracy for Random Forest: {accuracy_RF}')"
      ],
      "metadata": {
        "id": "5M29HIKKp_Vc",
        "colab": {
          "base_uri": "https://localhost:8080/"
        },
        "outputId": "009e4f5a-6953-48ca-9e92-23cb9082821c"
      },
      "execution_count": null,
      "outputs": [
        {
          "output_type": "stream",
          "name": "stdout",
          "text": [
            "Accuracy for Random Forest: 0.594494658997535\n"
          ]
        }
      ]
    },
    {
      "cell_type": "markdown",
      "source": [
        "## Hard Majority voting"
      ],
      "metadata": {
        "id": "48txYeLtLHAO"
      }
    },
    {
      "cell_type": "code",
      "source": [
        "# Putting all the simple models together\n",
        "\n",
        "y_pred_DTR = y_pred_DTR.astype(int)\n",
        "y_pred_KNN = y_pred_KNN.astype(int)\n",
        "y_pred_logreg = y_pred_logreg.astype(int)\n",
        "\n",
        "predictions = {'DTR': y_pred_DTR, 'KNN': y_pred_KNN, 'LOGREG': y_pred_logreg}\n",
        "majority_voting = pd.DataFrame(data=predictions, dtype=int)\n",
        "\n",
        "majority_voting['SEISUND_N'] = majority_voting[['DTR', 'KNN', 'LOGREG']].mode(axis=1)\n",
        "\n",
        "print(f\"Accuracy of ensemble of DTR, KNN and LOGREG {(np.sum(majority_voting['SEISUND_N'].astype(int) == np.asarray(test_y).astype(int))/len(test_y)*100)}%\")\n"
      ],
      "metadata": {
        "id": "0FtqX38ILKfL",
        "colab": {
          "base_uri": "https://localhost:8080/"
        },
        "outputId": "42a9e47e-cb94-4275-e26e-f23b00f36917"
      },
      "execution_count": null,
      "outputs": [
        {
          "output_type": "stream",
          "name": "stdout",
          "text": [
            "Accuracy of ensemble of DTR, KNN and LOGREG 63.722267871815944%\n"
          ]
        }
      ]
    },
    {
      "cell_type": "markdown",
      "source": [
        "## Bagging"
      ],
      "metadata": {
        "id": "c1xgGig1ipQ6"
      }
    },
    {
      "cell_type": "code",
      "source": [
        "max_depths = [1, 5, 10, 15, 20, 25, 50, 75, 100]"
      ],
      "metadata": {
        "id": "9PTk8klPh5Hr"
      },
      "execution_count": null,
      "outputs": []
    },
    {
      "cell_type": "code",
      "source": [
        "from sklearn.ensemble import BaggingClassifier\n",
        "\n",
        "np.random.seed(1111)\n",
        "\n",
        "for depth in max_depths:\n",
        "  n_estimators_ = depth\n",
        "  bagger = BaggingClassifier(n_estimators=n_estimators_, max_samples=0.8, bootstrap = True)\n",
        "  bagger.fit(train_X, train_y)\n",
        "\n",
        "  print(f\"Accuracy of sklearn bagging with {n_estimators_} estimators {bagger.score(test_X, test_y)*100}%\")"
      ],
      "metadata": {
        "id": "w6Ii1_--iovx",
        "colab": {
          "base_uri": "https://localhost:8080/"
        },
        "outputId": "721a6d6d-a901-491e-f858-cad92feeed5a"
      },
      "execution_count": null,
      "outputs": [
        {
          "output_type": "stream",
          "name": "stdout",
          "text": [
            "Accuracy of sklearn bagging with 1 estimators 57.02547247329499%\n",
            "Accuracy of sklearn bagging with 5 estimators 58.915365653245686%\n",
            "Accuracy of sklearn bagging with 10 estimators 58.463434675431394%\n",
            "Accuracy of sklearn bagging with 15 estimators 59.20295809367296%\n",
            "Accuracy of sklearn bagging with 20 estimators 59.0797041906327%\n",
            "Accuracy of sklearn bagging with 25 estimators 59.03861955628595%\n",
            "Accuracy of sklearn bagging with 50 estimators 58.874281018898934%\n",
            "Accuracy of sklearn bagging with 75 estimators 59.65488907148726%\n",
            "Accuracy of sklearn bagging with 100 estimators 59.94248151191455%\n"
          ]
        }
      ]
    },
    {
      "cell_type": "markdown",
      "source": [
        "## AdaBoost"
      ],
      "metadata": {
        "id": "I1p5bQLU3onV"
      }
    },
    {
      "cell_type": "code",
      "source": [
        "from sklearn.ensemble import AdaBoostClassifier\n",
        "\n",
        "for depth in max_depths:\n",
        "  n_estimators_ = depth\n",
        "  adaboost = AdaBoostClassifier(n_estimators=n_estimators_, random_state=1)\n",
        "  adaboost.fit(train_X, train_y)\n",
        "\n",
        "  print(f\"Accuracy of AdaBoost with {n_estimators_} estimators {adaboost.score(test_X, test_y)*100}%\")"
      ],
      "metadata": {
        "id": "ndTXDF1Z3n4x",
        "colab": {
          "base_uri": "https://localhost:8080/"
        },
        "outputId": "ac1e1617-fef3-4b18-feff-a458c521ad0f"
      },
      "execution_count": null,
      "outputs": [
        {
          "output_type": "stream",
          "name": "stdout",
          "text": [
            "Accuracy of AdaBoost with 1 estimators 56.039441248972885%\n",
            "Accuracy of AdaBoost with 5 estimators 57.43631881676253%\n",
            "Accuracy of AdaBoost with 10 estimators 59.326211996713226%\n",
            "Accuracy of AdaBoost with 15 estimators 61.09285127362366%\n",
            "Accuracy of AdaBoost with 20 estimators 60.887428101889896%\n",
            "Accuracy of AdaBoost with 25 estimators 61.4215283483977%\n",
            "Accuracy of AdaBoost with 50 estimators 62.32539030402629%\n",
            "Accuracy of AdaBoost with 75 estimators 62.73623664749384%\n",
            "Accuracy of AdaBoost with 100 estimators 62.73623664749384%\n"
          ]
        }
      ]
    },
    {
      "cell_type": "markdown",
      "source": [
        "## Gradient Boosting"
      ],
      "metadata": {
        "id": "C84leD0x8Xm-"
      }
    },
    {
      "cell_type": "code",
      "source": [
        "from sklearn.ensemble import GradientBoostingClassifier\n",
        "\n",
        "for depth in max_depths:\n",
        "  n_estimators_ = depth\n",
        "  gbm = GradientBoostingClassifier(n_estimators=n_estimators_, random_state=1)\n",
        "  gbm.fit(train_X, train_y)\n",
        "  print(f\"Accuracy of sklearn Gradient Boosting with {n_estimators_} estimators {adaboost.score(test_X, test_y)*100}%\")"
      ],
      "metadata": {
        "id": "kjKaz6588Wxh",
        "colab": {
          "base_uri": "https://localhost:8080/"
        },
        "outputId": "afd6417b-d2fc-41d4-f1cd-c3336ca313a2"
      },
      "execution_count": null,
      "outputs": [
        {
          "output_type": "stream",
          "name": "stdout",
          "text": [
            "Accuracy of sklearn Gradient Boosting with 1 estimators 62.73623664749384%\n",
            "Accuracy of sklearn Gradient Boosting with 5 estimators 62.73623664749384%\n",
            "Accuracy of sklearn Gradient Boosting with 10 estimators 62.73623664749384%\n",
            "Accuracy of sklearn Gradient Boosting with 15 estimators 62.73623664749384%\n",
            "Accuracy of sklearn Gradient Boosting with 20 estimators 62.73623664749384%\n",
            "Accuracy of sklearn Gradient Boosting with 25 estimators 62.73623664749384%\n",
            "Accuracy of sklearn Gradient Boosting with 50 estimators 62.73623664749384%\n",
            "Accuracy of sklearn Gradient Boosting with 75 estimators 62.73623664749384%\n",
            "Accuracy of sklearn Gradient Boosting with 100 estimators 62.73623664749384%\n"
          ]
        }
      ]
    },
    {
      "cell_type": "markdown",
      "source": [
        "## Stacking"
      ],
      "metadata": {
        "id": "zYG-hrwZ9Zb7"
      }
    },
    {
      "cell_type": "code",
      "source": [
        "from sklearn.ensemble import StackingClassifier\n",
        "from sklearn.ensemble import RandomForestClassifier\n",
        "from sklearn.svm import SVC\n",
        "\n",
        "estimators = [('decision_tree', DecisionTreeClassifier()),\n",
        "              ('knn', KNeighborsClassifier()),\n",
        "              ('rf', RandomForestClassifier())]\n",
        "\n",
        "stacking_classifier = StackingClassifier(estimators=estimators, final_estimator=SVC(), cv=4)\n",
        "stacking_classifier.fit(train_X, train_y)\n",
        "print(f\"Accuracy of sklearn stacking ensemble: {stacking_classifier.score(test_X, test_y)*100}%\")"
      ],
      "metadata": {
        "id": "yW7_dCPK9aIr",
        "colab": {
          "base_uri": "https://localhost:8080/"
        },
        "outputId": "7ba72200-1374-48ce-9e97-9c8305460d4c"
      },
      "execution_count": null,
      "outputs": [
        {
          "output_type": "stream",
          "name": "stdout",
          "text": [
            "Accuracy of sklearn stacking ensemble: 60.599835661462606%\n"
          ]
        }
      ]
    },
    {
      "cell_type": "markdown",
      "source": [
        "# Adding weather and population data"
      ],
      "metadata": {
        "id": "PtnwfKwDkV4m"
      }
    },
    {
      "cell_type": "markdown",
      "source": [
        "We also wanted to see, if our model would be better if we added weather and population information to our data."
      ],
      "metadata": {
        "id": "G3-gHyupBHV-"
      }
    },
    {
      "cell_type": "code",
      "source": [
        "data = pd.concat([se_2021, se_2022, se_2023], axis=0)\n",
        "data.reset_index(drop=True, inplace=True)\n",
        "\n",
        "url_pop = \"https://drive.google.com/file/d/14_j4v8Y-Zx7io57xZCfDZuZ4cekuouu1/view?usp=sharing\"\n",
        "se_pop = \"population.csv\"\n",
        "gdown.download(url_pop, se_pop, fuzzy=True)\n",
        "population = pd.read_csv(\"population.csv\", skiprows=2,encoding='utf-8' )\n",
        "\n",
        "url_wea = \"https://drive.google.com/file/d/1NbN60Q-uazl7nZp5dHJ43y7A_5DIPDAY/view?usp=sharing\"\n",
        "se_wea = \"weather.csv\"\n",
        "gdown.download(url_wea, se_wea, fuzzy=True)\n",
        "weather = pd.read_csv(\"weather.csv\", sep=\";\",encoding='utf-8', decimal=',')\n",
        "weather = weather.drop(columns=['Unnamed: 8', 'Unnamed: 9'])\n",
        "weather = weather.drop(weather.index[-1])\n"
      ],
      "metadata": {
        "id": "JIT_yvH2HwNW",
        "colab": {
          "base_uri": "https://localhost:8080/"
        },
        "outputId": "49bbcd95-aa76-4224-a0a5-bffff8e1e153"
      },
      "execution_count": null,
      "outputs": [
        {
          "output_type": "stream",
          "name": "stderr",
          "text": [
            "Downloading...\n",
            "From: https://drive.google.com/uc?id=14_j4v8Y-Zx7io57xZCfDZuZ4cekuouu1\n",
            "To: /content/population.csv\n",
            "100%|██████████| 2.64k/2.64k [00:00<00:00, 6.24MB/s]\n",
            "Downloading...\n",
            "From: https://drive.google.com/uc?id=1NbN60Q-uazl7nZp5dHJ43y7A_5DIPDAY\n",
            "To: /content/weather.csv\n",
            "100%|██████████| 1.71k/1.71k [00:00<00:00, 4.75MB/s]\n"
          ]
        }
      ]
    },
    {
      "cell_type": "markdown",
      "source": [
        "We have to do the same preprosessing steps again for our new data."
      ],
      "metadata": {
        "id": "KlppfSvqBkcR"
      }
    },
    {
      "cell_type": "code",
      "source": [
        "# Filling failure reasons for passed tests\n",
        "data['MITTEARVESTATUD'] = data['MITTEARVESTATUD'].fillna('-')\n",
        "\n",
        "# Remove rows that have the duration: 1. more than 100 minutes or less than 35 minutes (for passed tests)\n",
        "indexRows = data[ (data[\"KESTUS\"] < 35) & (data[\"SEISUND\"] == 'SOORITATUD')].index\n",
        "data.drop(indexRows , inplace=True)\n",
        "\n",
        "indexRows = data[ (data[\"KESTUS\"] > 100)].index\n",
        "data.drop(indexRows , inplace=True)\n",
        "\n",
        "# Only leave rows, where the result equals \"SOORITATUD\" or \"MITTE-SOORITATUD\".\n",
        "indexRows = data[ (data[\"SEISUND\"] == 'KATKESTATUD') | (data[\"SEISUND\"] == 'EI_ILMUNUD_KOHALE')].index\n",
        "data.drop(indexRows , inplace=True)\n",
        "\n",
        "# Leave only B-category\n",
        "data = data[data['KATEGOORIA'] == 'B']\n",
        "\n",
        "# Splitting the 'KUUPAEV' (date) column.\n",
        "data[['AASTA', 'KUU']] = data['KUUPAEV'].str.split('-', expand=True)\n",
        "data[\"AASTA\"]=data[\"AASTA\"].astype(int)\n",
        "data[\"KUU\"] =data[\"KUU\"].str.lstrip('0')\n",
        "data[\"KUU\"]=data[\"KUU\"].astype(int)\n",
        "weather[\"Year\"]=weather[\"Year\"].astype(int)\n",
        "weather[\"Month\"]=weather[\"Month\"].astype(int)\n",
        "\n",
        "# Adding weather info\n",
        "data = pd.merge(data, weather, left_on=['AASTA', 'KUU'], right_on=['Year', 'Month'], how='left')\n",
        "\n",
        "#Adding population info\n",
        "mapping_dict = {'Tallinn': 'Harju maakond', 'Tartu': 'Tartu maakond', 'Pärnu': 'Pärnu maakond',\n",
        "                'Kärdla': \"Hiiu maakond\", 'Narva': \"Ida-Viru maakond\",\"Jõgeva\": \"Jõgeva maakond\",\"Paide\": \"Järva maakond\",\n",
        "          \"Haapsalu\":\"Lääne maakond\",\"Rakvere\":\"Lääne-Viru maakond\",\"Põlva\":\"Põlva maakond\",\"Rapla\":\"Rapla maakond\",\n",
        "          \"Kuressaare\":\"Saare maakond\", \"Valga\":\"Valga maakond\", \"Viljandi\":\"Viljandi maakond\", \"Võru\": \"Võru maakond\", \"Jõhvi\":\"Ida-Viru maakond\", \"Saue\":\"Harju maakond\"}\n",
        "data['MappedKey'] = data['BYROO'].map(mapping_dict)\n",
        "data = pd.merge(data, population, left_on=[ \"AASTA\",\"MappedKey\"], right_on=['Aasta', \"Maakond\"], how='left')\n",
        "\n",
        "# Removing columns\n",
        "data = data.drop(columns=['KUUPAEV', 'Aasta', 'Year', 'Month', 'MappedKey'], axis=1)\n",
        "\n",
        "# Renaming columns\n",
        "data = data.rename(columns=\n",
        "{'average_temp': 'KESK_TEMP',\n",
        "'max_temp': 'MAX_TEMP',\n",
        "'min_temp': 'MIN_TEMP',\n",
        "'avg_rain, mm' : \"KESK_VIHM\" ,\n",
        "'max_rain ': \"MAX_VIHM\",\n",
        "'sun' : \"PÄIKE\",\n",
        "'Maakond': \"MAAKOND\",\n",
        "'Rahvused kokku Mehed ja naised' : \"RAHVAARV\" ,\n",
        "'Rahvused kokku Mehed': \"RAHVAARV_MEHED\" ,\n",
        "'Rahvused kokku Naised':\"RAHVAARV_NAISED\"\n",
        "})\n"
      ],
      "metadata": {
        "id": "P-K23P86kVY4"
      },
      "execution_count": null,
      "outputs": []
    },
    {
      "cell_type": "markdown",
      "source": [
        "- KESK_TEMP - average temperature of the month\n",
        "- MAX_TEMP - maximum temperature of the month\n",
        "- MIN_TEMP - minimum temperature of the month\n",
        "- KESK_VIHM - average rainfall in millimeters of the month\n",
        "- MAX_VIHM - maximum rainfall in millimeters of the month\n",
        "- PÄIKE - sunshine in hours (per month)\n",
        "- MAAKOND - county of bureau\n",
        "- RAHVAARV - population in the county\n",
        "- RAHVAARV_MEHED - population of men in the county\n",
        "- RAHVAARV_NAISED- population of women in the county\n"
      ],
      "metadata": {
        "id": "3c_xUlgfGe44"
      }
    },
    {
      "cell_type": "code",
      "source": [
        "from sklearn.model_selection import train_test_split, cross_val_score\n",
        "\n",
        "np.random.seed(1111)\n",
        "\n",
        "data['SEISUND'] = data['SEISUND'].str.replace('MITTE_SOORITATUD', '0', regex=True)\n",
        "data['SEISUND'] = data['SEISUND'].str.replace('SOORITATUD', '1', regex=True)\n",
        "data['SEISUND'] = (data['SEISUND']).astype(int)\n",
        "\n",
        "data_dropped_columns = data.drop(columns=['EKSAMI_SOORITAJA', 'SOIDUOPETAJA_KAASAS', 'KATK_POHJUS', 'MITTEARVESTATUD', 'VEAD',  'KESTUS', 'ERITINGIMUSED'])\n",
        "\n",
        "data_encoded = pd.get_dummies(data_dropped_columns, columns=['BYROO', 'VIIMANE_AUTOKOOL', 'KATEGOORIA', 'EKSAMINEERIJA', 'MAAKOND'])\n",
        "data_encoded = data_encoded.dropna()\n",
        "\n",
        "train_val, test = train_test_split(data_encoded, random_state = 111, test_size = 0.05)\n",
        "\n",
        "train, val = train_test_split(train_val, random_state = 111, test_size = 1/19)\n",
        "\n",
        "train_X = train.drop('SEISUND', axis=1)\n",
        "train_y = train['SEISUND']\n",
        "\n",
        "test_X = test.drop('SEISUND', axis=1)\n",
        "test_y = test['SEISUND']\n",
        "\n",
        "val_X = val.drop('SEISUND', axis=1)\n",
        "val_y = val['SEISUND']"
      ],
      "metadata": {
        "id": "SEPIBvYHrNQ0"
      },
      "execution_count": null,
      "outputs": []
    },
    {
      "cell_type": "markdown",
      "source": [
        "First we try Decision Tree Classifier:"
      ],
      "metadata": {
        "id": "pDgwbVHyCVsu"
      }
    },
    {
      "cell_type": "code",
      "source": [
        "from sklearn.tree import DecisionTreeClassifier, plot_tree\n",
        "\n",
        "model_DTR = DecisionTreeClassifier(max_depth=5)\n",
        "model_DTR.fit(X=train_X, y=train_y)\n",
        "\n",
        "# Make predictions\n",
        "y_pred_DTR = model_DTR.predict(test_X)\n",
        "\n",
        "# Evaluate accuracy\n",
        "accuracy_DTR = accuracy_score(test_y, y_pred_DTR)\n",
        "print(f'Accuracy for Decision Tree Classifier: {accuracy_DTR}')"
      ],
      "metadata": {
        "id": "pK7hKz7EsQaZ",
        "colab": {
          "base_uri": "https://localhost:8080/"
        },
        "outputId": "d03d79ce-44ad-47af-e2a3-02af84acb24a"
      },
      "execution_count": null,
      "outputs": [
        {
          "output_type": "stream",
          "name": "stdout",
          "text": [
            "Accuracy for Decision Tree Classifier: 0.5751961639058413\n"
          ]
        }
      ]
    },
    {
      "cell_type": "markdown",
      "source": [
        "Then we try AdaBoost:"
      ],
      "metadata": {
        "id": "tEDBgR5pCe3c"
      }
    },
    {
      "cell_type": "code",
      "source": [
        "from sklearn.ensemble import AdaBoostClassifier\n",
        "\n",
        "for depth in max_depths:\n",
        "  n_estimators_ = depth\n",
        "  adaboost = AdaBoostClassifier(n_estimators=n_estimators_, estimator=DecisionTreeClassifier(max_depth=1), random_state=1)\n",
        "  adaboost.fit(train_X, train_y)\n",
        "\n",
        "  print(f\"Accuracy of AdaBoost with {n_estimators_} estimators {adaboost.score(test_X, test_y)*100}%\")"
      ],
      "metadata": {
        "id": "eAgE4xMrsgUs",
        "colab": {
          "base_uri": "https://localhost:8080/"
        },
        "outputId": "b341ca1d-55f6-4eab-b334-0942dba066c3"
      },
      "execution_count": null,
      "outputs": [
        {
          "output_type": "stream",
          "name": "stdout",
          "text": [
            "Accuracy of AdaBoost with 1 estimators 54.29380993897123%\n",
            "Accuracy of AdaBoost with 5 estimators 56.73496076721884%\n",
            "Accuracy of AdaBoost with 10 estimators 58.93635571054926%\n",
            "Accuracy of AdaBoost with 15 estimators 59.59023539668701%\n",
            "Accuracy of AdaBoost with 20 estimators 60.244115082824756%\n",
            "Accuracy of AdaBoost with 25 estimators 60.09154315605929%\n",
            "Accuracy of AdaBoost with 50 estimators 61.00697471665214%\n",
            "Accuracy of AdaBoost with 75 estimators 60.61464690496948%\n",
            "Accuracy of AdaBoost with 100 estimators 61.46469049694856%\n"
          ]
        }
      ]
    },
    {
      "cell_type": "markdown",
      "source": [
        "As we can see, this new information didn't help our model to predict the driving test outcomes."
      ],
      "metadata": {
        "id": "K5s45cQwCj_p"
      }
    },
    {
      "cell_type": "markdown",
      "source": [
        "# Duration based on reasons"
      ],
      "metadata": {
        "id": "3n0e9mI1cwyX"
      }
    },
    {
      "cell_type": "markdown",
      "source": [
        "We also wanted to see if for the failed tests we can predict the duration of the test based on the failure reasons."
      ],
      "metadata": {
        "id": "FvI7wtVmCsxc"
      }
    },
    {
      "cell_type": "code",
      "source": [
        "from sklearn.linear_model import Lasso, Ridge\n",
        "\n",
        "data_reasons = data_reasons_HEC.drop(columns=['EKSAMI_SOORITAJA', 'SOIDUOPETAJA_KAASAS', 'KATK_POHJUS', 'MITTEARVESTATUD', 'VEAD', 'ERITINGIMUSED', 'VIIMANE_AUTOKOOL'])\n",
        "\n",
        "data_reasons['SEISUND'] = data_reasons['SEISUND'].str.replace('MITTE_SOORITATUD', '0', regex=True)\n",
        "data_reasons['SEISUND'] = data_reasons['SEISUND'].str.replace('SOORITATUD', '1', regex=True)\n",
        "data_reasons['SEISUND'] = (data_reasons['SEISUND']).astype(int)\n",
        "\n",
        "indexRows = data_reasons[ (data_reasons['SEISUND'] == 1)].index\n",
        "data_reasons.drop(indexRows , inplace=True)\n",
        "\n",
        "data_encoded = pd.get_dummies(data_reasons, columns=['KUUPAEV', 'BYROO', 'KATEGOORIA', 'EKSAMINEERIJA'])\n",
        "\n",
        "df_encoded = data_encoded.dropna()\n",
        "\n",
        "train_LR, val_test_LR = train_test_split(df_encoded, random_state = 111, test_size = 0.2)\n",
        "val_LR, test_LR = train_test_split(val_test_LR, random_state = 111, test_size = 0.5)\n",
        "\n",
        "train_X_LR = train_LR.drop('KESTUS', axis=1)\n",
        "train_y_LR = train_LR['KESTUS']\n",
        "\n",
        "val_X_LR = val_LR.drop('KESTUS', axis=1)\n",
        "val_y_LR = val_LR['KESTUS']\n",
        "\n",
        "test_X_LR = test_LR.drop('KESTUS', axis=1)\n",
        "test_y_LR = test_LR['KESTUS']"
      ],
      "metadata": {
        "id": "ZE924nmhc71b"
      },
      "execution_count": null,
      "outputs": []
    },
    {
      "cell_type": "markdown",
      "source": [
        "## Benchmark avarage"
      ],
      "metadata": {
        "id": "NOvPqJp6U515"
      }
    },
    {
      "cell_type": "code",
      "source": [
        "# Average duration\n",
        "columnAverage = test_y_LR.mean()\n",
        "sum = 0\n",
        "\n",
        "# Predicting average duration for every value in test set.\n",
        "for i in range(len(test_y_LR)):\n",
        "  sum += abs(columnAverage - test_y_LR.to_numpy()[i])\n",
        "\n",
        "average = sum / len(test_y_LR)\n",
        "print(average)"
      ],
      "metadata": {
        "id": "xve7PZqdISsG",
        "colab": {
          "base_uri": "https://localhost:8080/"
        },
        "outputId": "4a968e27-9fe2-4c76-8462-0e2963ddf18c"
      },
      "execution_count": null,
      "outputs": [
        {
          "output_type": "stream",
          "name": "stdout",
          "text": [
            "11.257621254770376\n"
          ]
        }
      ]
    },
    {
      "cell_type": "markdown",
      "source": [
        "## Ridge"
      ],
      "metadata": {
        "id": "z3_-PN1cU1Ma"
      }
    },
    {
      "cell_type": "code",
      "source": [
        "lambda_ = 1\n",
        "lr_ridge = Ridge(alpha = lambda_)\n",
        "lr_ridge.fit(train_X_LR, train_y_LR)\n",
        "y_pred_ridge = lr_ridge.predict(test_X_LR)\n",
        "\n",
        "# We go through all of the predictions and see, what is the average difference between the prediction and actual duration.\n",
        "sum = 0\n",
        "differences = []\n",
        "\n",
        "for i in range(len(y_pred_ridge)):\n",
        "  sum += abs(y_pred_ridge[i] - test_y_LR.to_numpy()[i])\n",
        "  differences.append(y_pred_ridge[i] - test_y_LR.to_numpy()[i])\n",
        "\n",
        "average = sum / len(y_pred_ridge)\n",
        "print(f\"Average predicted difference (Ridge): {average}\")"
      ],
      "metadata": {
        "id": "WDWgda8Ng_J1",
        "colab": {
          "base_uri": "https://localhost:8080/"
        },
        "outputId": "cac1278d-910e-478a-a41a-b415795ec2fc"
      },
      "execution_count": null,
      "outputs": [
        {
          "output_type": "stream",
          "name": "stdout",
          "text": [
            "Average predicted difference (Ridge): 10.221298350489915\n"
          ]
        }
      ]
    },
    {
      "cell_type": "code",
      "source": [
        "import matplotlib.pyplot as plt\n",
        "\n",
        "plt.hist(differences, bins = 50)"
      ],
      "metadata": {
        "id": "T98mj0B2kmJI",
        "colab": {
          "base_uri": "https://localhost:8080/"
        },
        "outputId": "b3906d15-98d9-4c9f-fcb4-9e4dbce5983f"
      },
      "execution_count": null,
      "outputs": [
        {
          "output_type": "execute_result",
          "data": {
            "text/plain": [
              "(array([  1.,   0.,   0.,   0.,   2.,   2.,   2.,   5.,   4.,   6.,   5.,\n",
              "          8.,  20.,  15.,  24.,  25.,  28.,  35.,  61.,  56.,  65.,  70.,\n",
              "         69.,  83.,  81.,  94.,  78.,  87.,  86.,  85., 109., 108., 106.,\n",
              "        110., 110., 125., 100., 116., 103.,  94.,  55.,  54.,  30.,  28.,\n",
              "         23.,   9.,   9.,   6.,   1.,   4.]),\n",
              " array([-44.98614176, -43.47039086, -41.95463996, -40.43888906,\n",
              "        -38.92313816, -37.40738726, -35.89163637, -34.37588547,\n",
              "        -32.86013457, -31.34438367, -29.82863277, -28.31288187,\n",
              "        -26.79713097, -25.28138008, -23.76562918, -22.24987828,\n",
              "        -20.73412738, -19.21837648, -17.70262558, -16.18687468,\n",
              "        -14.67112378, -13.15537289, -11.63962199, -10.12387109,\n",
              "         -8.60812019,  -7.09236929,  -5.57661839,  -4.06086749,\n",
              "         -2.5451166 ,  -1.0293657 ,   0.4863852 ,   2.0021361 ,\n",
              "          3.517887  ,   5.0336379 ,   6.5493888 ,   8.0651397 ,\n",
              "          9.58089059,  11.09664149,  12.61239239,  14.12814329,\n",
              "         15.64389419,  17.15964509,  18.67539599,  20.19114688,\n",
              "         21.70689778,  23.22264868,  24.73839958,  26.25415048,\n",
              "         27.76990138,  29.28565228,  30.80140318]),\n",
              " <BarContainer object of 50 artists>)"
            ]
          },
          "metadata": {},
          "execution_count": 37
        },
        {
          "output_type": "display_data",
          "data": {
            "text/plain": [
              "<Figure size 640x480 with 1 Axes>"
            ],
            "image/png": "[encoded data removed]"
          },
          "metadata": {}
        }
      ]
    },
    {
      "cell_type": "markdown",
      "source": [
        "## Linear Regression"
      ],
      "metadata": {
        "id": "URO2z018VA_W"
      }
    },
    {
      "cell_type": "code",
      "source": [
        "from sklearn.linear_model import LinearRegression\n",
        "\n",
        "lr = LinearRegression()\n",
        "lr.fit(train_X_LR, train_y_LR)\n",
        "y_pred_l_reg = lr.predict(test_X_LR)\n",
        "\n",
        "sum = 0\n",
        "\n",
        "for i in range(len(y_pred_l_reg)):\n",
        "  sum += abs(y_pred_l_reg[i] - test_y_LR.to_numpy()[i])\n",
        "\n",
        "average = sum / len(y_pred_l_reg)\n",
        "print(f\"Average predicted difference (Linear Regrssion): {average}\")"
      ],
      "metadata": {
        "id": "5xcbCh-j4Ik5",
        "colab": {
          "base_uri": "https://localhost:8080/"
        },
        "outputId": "86b426f9-a53c-46b3-f363-5a136edb9579"
      },
      "execution_count": null,
      "outputs": [
        {
          "output_type": "stream",
          "name": "stdout",
          "text": [
            "Average predicted difference (Linear Regrssion): 10.220074185342355\n"
          ]
        }
      ]
    },
    {
      "cell_type": "markdown",
      "source": [
        "## Decision Tree Regressor"
      ],
      "metadata": {
        "id": "YIaMYUkhVIld"
      }
    },
    {
      "cell_type": "code",
      "source": [
        "from sklearn.tree import DecisionTreeRegressor\n",
        "\n",
        "for depth in max_depths:\n",
        "\n",
        "  dtr = DecisionTreeRegressor(max_depth = depth)\n",
        "  dtr.fit(train_X_LR, train_y_LR)\n",
        "\n",
        "  y_pred_dtr = dtr.predict(test_X_LR)\n",
        "\n",
        "  sum = 0\n",
        "  for i in range(len(y_pred_dtr)):\n",
        "    sum += abs(y_pred_dtr[i] - test_y_LR.to_numpy()[i])\n",
        "    differences.append(y_pred_dtr[i] - test_y_LR.to_numpy()[i])\n",
        "\n",
        "  average = sum / len(y_pred_dtr)\n",
        "  print(\"Max_depth =\", depth, \"Average:\", average)"
      ],
      "metadata": {
        "id": "-3iD74Dt7Uoh",
        "colab": {
          "base_uri": "https://localhost:8080/"
        },
        "outputId": "ddb3f62a-e79d-4938-bb32-84cf68513c4a"
      },
      "execution_count": null,
      "outputs": [
        {
          "output_type": "stream",
          "name": "stdout",
          "text": [
            "Max_depth = 1 Average: 11.28449393363366\n",
            "Max_depth = 5 Average: 10.90533105651895\n",
            "Max_depth = 10 Average: 10.550432310417982\n",
            "Max_depth = 15 Average: 10.351385127685216\n",
            "Max_depth = 20 Average: 10.447273075208464\n",
            "Max_depth = 25 Average: 10.539015518547167\n",
            "Max_depth = 50 Average: 11.261872668783845\n",
            "Max_depth = 75 Average: 11.49460785287761\n",
            "Max_depth = 100 Average: 11.610836520427103\n"
          ]
        }
      ]
    }
  ]
}